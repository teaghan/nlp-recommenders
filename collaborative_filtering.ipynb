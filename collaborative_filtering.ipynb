{
 "cells": [
  {
   "cell_type": "markdown",
   "id": "d0f874ff-c3c1-4364-ae57-3a6774e48525",
   "metadata": {},
   "source": [
    "# Collaborative Filtering\n",
    "\n",
    "Collaborative Filtering (CF) is a technique widely used in building recommender systems, a class of systems that predict user preferences for items or products. It's based on the idea that people who agreed in their opinions in the past will agree again in the future. In the context of educational tools, CF can suggest learning tasks to students based on the preferences and behaviors of similar students.\n",
    "\n",
    "### How Does Collaborative Filtering Work?\n",
    "\n",
    "1. **User-Item Interactions**: CF relies on user-item interaction data. This could be explicit feedback (like ratings) or implicit indicators (like time spent on a task or number of attempts).\n",
    "\n",
    "2. **Finding Similarities**: The system identifies patterns in user behavior by comparing the similarities between users or items. For instance, if two students have similar patterns in solving certain types of tasks, they are considered to have similar preferences.\n",
    "\n",
    "3. **Generating Recommendations**: Based on these similarities, the system predicts how a user might feel about an item (or task) they haven't interacted with. For example, if Student A likes tasks that Student B also likes, then the system might recommend to Student A a task that Student B has interacted with positively.\n",
    "\n",
    "### Types of Collaborative Filtering\n",
    "\n",
    "- **User-Based**: Recommendations are made based on the preferences of similar users. It answers the question, \"What might this user like, given what similar users like?\"\n",
    "\n",
    "- **Item-Based**: Here, the focus is on the similarity between items. It suggests items similar to what the user has liked before, addressing the question, \"What items are similar to the ones this user likes?\"\n",
    "\n",
    "### Application in Education\n",
    "\n",
    "In an educational setting, CF can personalize the learning experience by recommending tasks that are well-suited to a student's learning style, performance history, and preferences, as inferred from the data of similar students. This approach enhances engagement and learning efficiency, making educational content more relevant and effective for each learner."
   ]
  },
  {
   "cell_type": "markdown",
   "id": "d0277ee5-8e1b-4419-b12e-53bacea3a173",
   "metadata": {},
   "source": [
    "# Use-case: Recommending Problems to Students\n",
    "\n",
    "Let's explore how collaborative filtering can be applied in the context of recommending educational tasks to students, enhancing their learning experience by personalizing the difficulty and type of problems they encounter.\n",
    "\n",
    "## Understanding the Dataset\n",
    "\n",
    "This dataset simulates various aspects of student interactions with educational tasks. Each element in the dataset captures a different dimension of these interactions:\n",
    "\n",
    "### Dataset Elements\n",
    "\n",
    "1. **StudentID**\n",
    "   - **Description**: Unique identifier for each student.\n",
    "   - **Values**: Integer.\n",
    "   - **Range**: 1 to 100.\n",
    "\n",
    "2. **ProblemID**\n",
    "   - **Description**: Unique identifier for each educational task.\n",
    "   - **Values**: Integer.\n",
    "   - **Range**: 1 to 50.\n",
    "\n",
    "3. **Correctness**\n",
    "   - **Description**: Whether the student's attempt was correct.\n",
    "   - **Values**: Binary (1 for correct, 0 for incorrect).\n",
    "\n",
    "4. **TimeSpent**\n",
    "   - **Description**: Time spent on a task in minutes.\n",
    "   - **Values**: Integer.\n",
    "   - **Range**: 1 to 30 minutes.\n",
    "\n",
    "5. **AttemptCount**\n",
    "   - **Description**: Number of attempts on a task.\n",
    "   - **Values**: Integer.\n",
    "   - **Range**: 1 to 5.\n",
    "\n",
    "6. **HintUsage**\n",
    "   - **Description**: Number of hints used for a task.\n",
    "   - **Values**: Integer.\n",
    "   - **Range**: 0 to 3.\n",
    "\n",
    "7. **ProblemDifficulty**\n",
    "   - **Description**: Difficulty level of the task.\n",
    "   - **Values**: Categorical ('Easy', 'Medium', 'Hard').\n",
    "\n",
    "8. **DaysSinceStart**\n",
    "   - **Description**: Days elapsed since the start of the topic.\n",
    "   - **Values**: Integer.\n",
    "   - **Range**: 0 to 30.\n",
    "\n",
    "### Data Representation and Use\n",
    "\n",
    "- Each record represents a student's attempt at a specific task, uniquely identified by the `StudentID` and `ProblemID` combination.\n",
    "- The dataset not only records the outcome (`Correctness`) but also detailed aspects of the learning process, such as `TimeSpent`, `AttemptCount`, and `HintUsage`.\n",
    "- `ProblemDifficulty` provides insights into the challenge level faced by students, enabling analysis of performance across varying difficulties.\n",
    "- `DaysSinceStart` helps track the student's progression over time, offering valuable data for understanding learning patterns and habits.\n",
    "\n",
    "This dataset serves as a robust foundation for creating a recommender system that can tailor learning experiences to individual student needs, significantly enhancing the educational process.\n",
    "\n",
    "> **Note** The dataset is generated with random simulations, so while the individual results might not reflect real-world scenarios, the methodology and approach serve as a valuable demonstration of the capabilities of collaborative filtering in educational settings."
   ]
  },
  {
   "cell_type": "code",
   "execution_count": 1,
   "id": "a4b06f48-aec1-4dc8-bb38-9219dec3f537",
   "metadata": {
    "execution": {
     "iopub.execute_input": "2024-01-29T17:41:29.214087Z",
     "iopub.status.busy": "2024-01-29T17:41:29.213843Z",
     "iopub.status.idle": "2024-01-29T17:41:29.684766Z",
     "shell.execute_reply": "2024-01-29T17:41:29.683829Z",
     "shell.execute_reply.started": "2024-01-29T17:41:29.214060Z"
    }
   },
   "outputs": [
    {
     "data": {
      "text/html": [
       "<div>\n",
       "<style scoped>\n",
       "    .dataframe tbody tr th:only-of-type {\n",
       "        vertical-align: middle;\n",
       "    }\n",
       "\n",
       "    .dataframe tbody tr th {\n",
       "        vertical-align: top;\n",
       "    }\n",
       "\n",
       "    .dataframe thead th {\n",
       "        text-align: right;\n",
       "    }\n",
       "</style>\n",
       "<table border=\"1\" class=\"dataframe\">\n",
       "  <thead>\n",
       "    <tr style=\"text-align: right;\">\n",
       "      <th></th>\n",
       "      <th>StudentID</th>\n",
       "      <th>ProblemID</th>\n",
       "      <th>Correctness</th>\n",
       "      <th>TimeSpent</th>\n",
       "      <th>AttemptCount</th>\n",
       "      <th>HintUsage</th>\n",
       "      <th>ProblemDifficulty</th>\n",
       "      <th>DaysSinceStart</th>\n",
       "    </tr>\n",
       "  </thead>\n",
       "  <tbody>\n",
       "    <tr>\n",
       "      <th>0</th>\n",
       "      <td>1</td>\n",
       "      <td>212</td>\n",
       "      <td>1</td>\n",
       "      <td>1.000000</td>\n",
       "      <td>1</td>\n",
       "      <td>1</td>\n",
       "      <td>Easy</td>\n",
       "      <td>25</td>\n",
       "    </tr>\n",
       "    <tr>\n",
       "      <th>1</th>\n",
       "      <td>1</td>\n",
       "      <td>132</td>\n",
       "      <td>1</td>\n",
       "      <td>4.132631</td>\n",
       "      <td>4</td>\n",
       "      <td>0</td>\n",
       "      <td>Medium</td>\n",
       "      <td>19</td>\n",
       "    </tr>\n",
       "    <tr>\n",
       "      <th>2</th>\n",
       "      <td>1</td>\n",
       "      <td>115</td>\n",
       "      <td>0</td>\n",
       "      <td>9.966913</td>\n",
       "      <td>5</td>\n",
       "      <td>2</td>\n",
       "      <td>Medium</td>\n",
       "      <td>3</td>\n",
       "    </tr>\n",
       "    <tr>\n",
       "      <th>3</th>\n",
       "      <td>1</td>\n",
       "      <td>257</td>\n",
       "      <td>1</td>\n",
       "      <td>9.704437</td>\n",
       "      <td>2</td>\n",
       "      <td>1</td>\n",
       "      <td>Hard</td>\n",
       "      <td>29</td>\n",
       "    </tr>\n",
       "    <tr>\n",
       "      <th>4</th>\n",
       "      <td>1</td>\n",
       "      <td>174</td>\n",
       "      <td>1</td>\n",
       "      <td>4.515130</td>\n",
       "      <td>2</td>\n",
       "      <td>1</td>\n",
       "      <td>Easy</td>\n",
       "      <td>3</td>\n",
       "    </tr>\n",
       "  </tbody>\n",
       "</table>\n",
       "</div>"
      ],
      "text/plain": [
       "   StudentID  ProblemID  Correctness  TimeSpent  AttemptCount  HintUsage  \\\n",
       "0          1        212            1   1.000000             1          1   \n",
       "1          1        132            1   4.132631             4          0   \n",
       "2          1        115            0   9.966913             5          2   \n",
       "3          1        257            1   9.704437             2          1   \n",
       "4          1        174            1   4.515130             2          1   \n",
       "\n",
       "  ProblemDifficulty  DaysSinceStart  \n",
       "0              Easy              25  \n",
       "1            Medium              19  \n",
       "2            Medium               3  \n",
       "3              Hard              29  \n",
       "4              Easy               3  "
      ]
     },
     "execution_count": 1,
     "metadata": {},
     "output_type": "execute_result"
    }
   ],
   "source": [
    "import numpy as np\n",
    "import pandas as pd\n",
    "\n",
    "# Load the dataset\n",
    "csv_file_path = 'data/educational_recommender_data.csv'\n",
    "df = pd.read_csv(csv_file_path)\n",
    "\n",
    "# Display the first few rows of the dataframe\n",
    "df.head()"
   ]
  },
  {
   "cell_type": "markdown",
   "id": "8f313032-7ef8-4b8a-bf55-aecec3f58d70",
   "metadata": {},
   "source": [
    "## User-Based Problem: Difficulty Level Adjustment in Educational Recommender Systems\n",
    "\n",
    "### Objective\n",
    "\n",
    "We aim to develop a user-based collaborative filtering recommender system that dynamically adjusts the difficulty of educational tasks for individual students. This system's goal is to analyze student interaction data and offer personalized task difficulty recommendations.\n",
    "\n",
    "### Key Challenge\n",
    "\n",
    "- **Personalized Learning Path**: The challenge lies in catering to each student's unique learning curve. By interpreting their performance data, the system should recommend tasks that are appropriately challenging and align with their educational growth trajectory.\n",
    "\n",
    "### Data Utilization\n",
    "\n",
    "- **Dataset Overview**: The dataset comprises elements like `StudentID`, `ProblemID`, `Correctness`, `TimeSpent`, `AttemptCount`, `HintUsage`, `ProblemDifficulty`, and `DaysSinceStart`.\n",
    "- **Analysis Focus Points**:\n",
    "  - **Performance Metrics**: The system uses metrics like `Correctness`, `TimeSpent`, `AttemptCount`, and `DaysSinceStart` to assess how students interact with tasks of varying difficulty and to track their progress over time.\n",
    "  - **Task Difficulty Assessment**: Evaluating students' performance against tasks of different difficulty levels and identifying patterns of learning progression.\n",
    "\n",
    "### Collaborative Filtering Approach\n",
    "\n",
    "- **User-Based Methodology**:\n",
    "  - Identifying students with similar learning behaviors and progression patterns.\n",
    "  - Analyzing how these students evolve in their ability to tackle increasingly challenging tasks.\n",
    "  - Recommending tasks of varying difficulty based on the aggregated performance and progression trends of similar students.\n",
    "\n",
    "### Expected Outcome\n",
    "\n",
    "- **Adaptive Learning Experience**: The system aims to propose tasks that match each student's current skill level, gently pushing their boundaries to foster continuous learning and development.\n",
    "- **Enhanced Educational Engagement**: By offering tasks that are optimally challenging and considering the most suitable timing for these tasks, the system seeks to maintain high levels of student engagement and motivation.\n",
    "\n",
    "### Significance\n",
    "\n",
    "This personalized approach to adjusting task difficulty is crucial in educational settings. It ensures that students face challenges tailored to their individual learning abilities and context. The system is designed to understand a student's current standing in their learning journey and consider their recent interactions to predict the most beneficial next steps in their educational path. This method is vital for providing an educational experience that is both effective and deeply personalized."
   ]
  },
  {
   "cell_type": "markdown",
   "id": "62ae72ae-234e-4729-b182-eabecf80f4d8",
   "metadata": {},
   "source": [
    "## Choosing the Right Method for Our Recommender System\n",
    "\n",
    "In building our recommender system for adjusting the difficulty level of educational tasks, it's crucial to select the most suitable method. Let's discuss the two primary categories: memory-based and model-based methods, to determine the best fit for our task.\n",
    "\n",
    "### Memory-Based Methods (Neighborhood-Based)\n",
    "\n",
    "Memory-based methods, including user-based and item-based collaborative filtering, rely on computing similarities between users or items based on their interaction histories.\n",
    "\n",
    "- **Advantages**:\n",
    "  - **Interpretability**: These methods are easy to understand and implement. They provide clear insights into why a recommendation is made.\n",
    "  - **Dynamic Recommendations**: Directly use the latest user-item interactions, making them inherently dynamic.\n",
    "\n",
    "- **Challenges**:\n",
    "  - **Scalability Issues**: As the dataset grows, these methods can become computationally expensive due to the need to compute all pairwise similarities.\n",
    "  - **Data Sparsity**: They can struggle in scenarios where each user interacts with only a small subset of the total items.\n",
    "\n",
    "### Model-Based Methods\n",
    "\n",
    "Model-based methods involve constructing predictive models, often utilizing machine learning algorithms, to make recommendations.\n",
    "\n",
    "- **Advantages**:\n",
    "  - **Efficiency at Scale**: More scalable than memory-based methods as they do not require computing and storing all user-item similarities.\n",
    "  - **Better Handling of Sparsity**: Capable of dealing with sparse datasets by uncovering latent factors that explain observed interactions.\n",
    "  - **Integration of Diverse Data**: Can incorporate various data types, including temporal patterns, for more nuanced recommendations.\n",
    "\n",
    "- **Challenges**:\n",
    "  - **Complex Implementation**: Generally more complex to set up and require careful tuning.\n",
    "  - **Interpretability**: Often less interpretable than memory-based methods, making it harder to understand the reasoning behind specific recommendations.\n",
    "\n",
    "### Our Approach: Model-Based Method\n",
    "\n",
    "Given the nature of our task – adjusting the difficulty level of educational tasks based on student performance and learning progress over time – a model-based approach is likely more suitable due to:\n",
    "\n",
    "- **Temporal Data Integration**: Capable of effectively integrating the `DaysSinceStart` feature, which is crucial for understanding the progression of student learning.\n",
    "- **Complex Pattern Recognition**: Can uncover complex relationships within the data, essential for understanding diverse learning behaviors.\n",
    "- **Scalability and Sparsity Management**: Ideal for our potentially large and sparse educational datasets."
   ]
  },
  {
   "cell_type": "markdown",
   "id": "3645dd0e-d1bb-4e82-80ba-3e29b124cd55",
   "metadata": {},
   "source": [
    "# LightFM Approach for Difficulty Level Adjustment\n",
    "\n",
    "In this section of the tutorial, we will utilize the [LightFM](https://github.com/lyst/lightfm) library to construct a recommender system aimed at adjusting the difficulty level of educational tasks. The process includes steps for data preprocessing, model development, training, and evaluation.\n",
    "\n",
    "## Step 1: Install LightFM\n",
    "\n",
    "Before proceeding, ensure that LightFM is installed in your Python environment. It can be installed using pip:\n",
    "\n",
    "```python\n",
    "!pip install lightfm\n",
    "```\n",
    "\n",
    "## Step 2: Preprocess the Data\n",
    "\n",
    "Effective data preprocessing is crucial for the success of any machine learning model. In our case, LightFM works with categorical data, so our dataset should actually work seamlessly as is.."
   ]
  },
  {
   "cell_type": "markdown",
   "id": "2f8fd9ef-5008-4ab0-9595-b91b7bf027ec",
   "metadata": {},
   "source": [
    "## Step 3: Create a LightFM Dataset\n",
    "\n",
    "This step involves creating a specialized LightFM dataset, a critical prerequisite for utilizing the LightFM library. This dataset format helps in structuring and managing user-item interaction data, along with integrating additional influential features for the recommender system. Here's an overview of the process:\n",
    "\n",
    "### Understanding LightFM Datasets\n",
    "\n",
    "- **LightFM Dataset Structure**: This format is tailored for handling interaction data between users (students) and items (educational tasks), along with associated features. It's essential for the model to comprehend and process this data to generate recommendations.\n",
    "\n",
    "### Preparing and Fitting the Dataset\n",
    "\n",
    "- **Fitting the Dataset**: 'Fitting' refers to the process of acquainting the dataset with the entire spectrum of users, items, and item feature values. This step essentially sets up the dataset by defining the scope of users (students), items (tasks), and their characteristics.\n",
    "- **Purpose of Fitting**: The fitting process equips LightFM with a comprehensive understanding of the data's structure, encompassing all potential users, items, and their features. This understanding is crucial for the model to establish internal mappings and indexes, enhancing its ability to analyze and process the data efficiently.\n",
    "\n",
    "### Implementation Details\n",
    "\n",
    "- In our scenario, the LightFM dataset will be configured with `StudentID` as users and `ProblemID` as items.\n",
    "- Additional features such as `ProblemDifficulty`, encoded numerically, and `DaysSinceStart` will be incorporated to enrich the model's context and improve recommendation quality.\n",
    "\n",
    "> **Note** In the context of LightFM, all feature values are handled as string identifiers. Therefore, numerical features in our dataset will be appropriately converted to string format to align with LightFM's requirements."
   ]
  },
  {
   "cell_type": "code",
   "execution_count": 2,
   "id": "c50e95cd-892d-43fd-a6a4-574847781c5d",
   "metadata": {
    "execution": {
     "iopub.execute_input": "2024-01-29T17:41:29.686380Z",
     "iopub.status.busy": "2024-01-29T17:41:29.686061Z",
     "iopub.status.idle": "2024-01-29T17:41:30.860067Z",
     "shell.execute_reply": "2024-01-29T17:41:30.858583Z",
     "shell.execute_reply.started": "2024-01-29T17:41:29.686355Z"
    }
   },
   "outputs": [],
   "source": [
    "from lightfm.data import Dataset\n",
    "\n",
    "# Initialize a new Dataset object\n",
    "dataset = Dataset()\n",
    "\n",
    "# Fit the dataset with users, items, and item features\n",
    "dataset.fit(\n",
    "    (row['StudentID'] for _, row in df.iterrows()),\n",
    "    (row['ProblemID'] for _, row in df.iterrows()),\n",
    "    user_features=(str(row['DaysSinceStart']) for _, row in df.iterrows()),\n",
    "    item_features=(row['ProblemDifficulty'] for _, row in df.iterrows())\n",
    ")"
   ]
  },
  {
   "cell_type": "markdown",
   "id": "b43f543d-4cd5-4b22-aef6-6a529cc2ea60",
   "metadata": {},
   "source": [
    "\n",
    "### Understanding `dataset.build_interactions` in LightFM\n",
    "\n",
    "The `dataset.build_interactions` function in LightFM is crucial for preparing our data for the recommender system. It processes each user-item pair along with a weighting (in our case, `Correctness`) to create two matrices: `interactions` and `weights`.\n",
    "\n",
    "> `Correctness` provides a direct measure of a student's success with a task, making it a meaningful indicator of student engagement and understanding. However, depending on the desired outcome, using `TimeSpent`, `AttemptCount`, etc. (or even a combination of multiple metrics) could be a more effective weighting for each interaction.\n",
    "\n",
    "#### The `interactions` Matrix\n",
    "- **Purpose**: Represents whether a user has interacted with an item.\n",
    "- **Structure**: A binary (0 or 1), sparse matrix with users as rows and items as columns.\n",
    "- **Values**: \n",
    "  - **1**: Interaction occurred (student attempted a task).\n",
    "  - **0**: No interaction.\n",
    "\n",
    "#### The `weights` Matrix\n",
    "- **Purpose**: Quantifies the strength or confidence of each interaction.\n",
    "- **Structure**: Mirrors the `interactions` matrix but with numerical values.\n",
    "- **Values**: Represents interaction intensity. In our context, `Correctness` is used as the weight, indicating the student's performance on the task.\n",
    "\n",
    "#### Usage in the Model\n",
    "- **Interactions Matrix**: Trains the model on which tasks are attempted by students.\n",
    "- **Weights Matrix**: Prioritizes interactions based on student performance, influencing the model to focus more on tasks where the student's performance is indicative of their learning needs and preferences."
   ]
  },
  {
   "cell_type": "code",
   "execution_count": 3,
   "id": "8ef7938b-9126-4a0b-adc1-d95e78ebb621",
   "metadata": {
    "execution": {
     "iopub.execute_input": "2024-01-29T17:41:30.861842Z",
     "iopub.status.busy": "2024-01-29T17:41:30.861368Z",
     "iopub.status.idle": "2024-01-29T17:41:31.076496Z",
     "shell.execute_reply": "2024-01-29T17:41:31.075230Z",
     "shell.execute_reply.started": "2024-01-29T17:41:30.861816Z"
    }
   },
   "outputs": [],
   "source": [
    "# Building the interactions matrix\n",
    "(interactions, weights) = dataset.build_interactions(\n",
    "    ((row['StudentID'], row['ProblemID'], row['Correctness']) for _, row in df.iterrows())\n",
    ")"
   ]
  },
  {
   "cell_type": "markdown",
   "id": "99f4e11b-29dc-494f-a564-85a0db7247bc",
   "metadata": {},
   "source": [
    "## Step 4: Building Item and User Features in LightFM\n",
    "\n",
    "This step is pivotal in enriching our LightFM dataset, as we add both item and user features. These features infuse the model with contextual details about educational tasks and student interactions, which are essential for generating well-informed recommendations.\n",
    "\n",
    "### Enhancing Model Context with Features\n",
    "\n",
    "- **Item Features - Task Characteristics**: The `ProblemDifficulty` feature captures the inherent challenge level of each task, providing vital information to the model about the nature of the problems.\n",
    "- **User Features - Temporal Aspect**: Unlike traditional models, we also incorporate a temporal dimension through `DaysSinceStart` as a user feature. This unique approach considers the progression of students over time, offering a dynamic perspective on their learning journey.\n",
    "\n",
    "### Implementation in LightFM\n",
    "\n",
    "**Building Item Features**: We define features related to each educational task, such as the difficulty level, to give the model a deeper understanding of each problem's attributes."
   ]
  },
  {
   "cell_type": "code",
   "execution_count": 4,
   "id": "b4e504fc-1bb3-4389-9bde-902bc3c84000",
   "metadata": {
    "execution": {
     "iopub.execute_input": "2024-01-29T17:41:31.077891Z",
     "iopub.status.busy": "2024-01-29T17:41:31.077636Z",
     "iopub.status.idle": "2024-01-29T17:41:31.361438Z",
     "shell.execute_reply": "2024-01-29T17:41:31.360204Z",
     "shell.execute_reply.started": "2024-01-29T17:41:31.077869Z"
    }
   },
   "outputs": [],
   "source": [
    "# Building item features\n",
    "item_features = dataset.build_item_features(\n",
    "    (row['ProblemID'], [row['ProblemDifficulty']]) for _, row in df.iterrows()\n",
    ")"
   ]
  },
  {
   "cell_type": "markdown",
   "id": "ec808956-26c6-4122-8b1a-9118eb1a1014",
   "metadata": {},
   "source": [
    "**Building User Features**: By including `DaysSinceStart` as a user feature, we add a layer of temporal context, enabling the model to tailor recommendations based on how far a student has progressed since the start of the learning period."
   ]
  },
  {
   "cell_type": "code",
   "execution_count": 5,
   "id": "951456e5-96d1-40d0-8cc2-aa9ce5c51763",
   "metadata": {
    "execution": {
     "iopub.execute_input": "2024-01-29T17:41:31.364317Z",
     "iopub.status.busy": "2024-01-29T17:41:31.364062Z",
     "iopub.status.idle": "2024-01-29T17:41:31.577277Z",
     "shell.execute_reply": "2024-01-29T17:41:31.576064Z",
     "shell.execute_reply.started": "2024-01-29T17:41:31.364278Z"
    }
   },
   "outputs": [],
   "source": [
    "# Building user features\n",
    "user_features = dataset.build_user_features(\n",
    "    (row['StudentID'], [str(row['DaysSinceStart'])]) for _, row in df.iterrows()\n",
    ")"
   ]
  },
  {
   "cell_type": "markdown",
   "id": "d5048465-33de-4411-97c1-446ee24930bd",
   "metadata": {},
   "source": [
    "### Balancing Complexity and Utility\n",
    "\n",
    "- **Simplified yet Effective**: While it's possible to delve into more granular temporal details, our model strikes a balance by simplifying the temporal aspect without sacrificing the core utility. This approach ensures that the model remains robust yet practical for real-world educational settings."
   ]
  },
  {
   "cell_type": "markdown",
   "id": "bde5cdfc-7716-47b9-b0fa-af19ebc3e5c7",
   "metadata": {},
   "source": [
    "## Step 5: Model Creation and Training with LightFM\n",
    "\n",
    "Now we proceed to a pivotal phase—creating and training our recommendation model using LightFM. This step is crucial as it involves fine-tuning the model's parameters and harnessing our dataset for training purposes.\n",
    "\n",
    "### Understanding the LightFM Model\n",
    "\n",
    "- **The LightFM Framework**: LightFM is a versatile matrix factorization model that merges aspects of collaborative filtering and content-based approaches. It's adept at handling both implicit and explicit feedback datasets, making it a prime choice for a wide range of recommendation tasks.\n",
    "\n",
    "- **Key Components of the Model**:\n",
    "  - **`no_components`**: Represents the number of latent factors (or features) in the model, which correspond to the dimensions of the user and item embeddings. Selecting an optimal number of components is crucial; too few may underfit, while too many could lead to overfitting.\n",
    "  - **`loss`**: This specifies the loss function used for training. We're using 'warp' (Weighted Approximate-Rank Pairwise) here, a robust choice for datasets with implicit feedback, as it focuses on optimizing the order of recommendations.\n",
    "- **`learning_rate`**: Sets the speed at which the model updates its parameters during training. A balanced learning rate (0.6 in our case) is crucial for effective learning without overshooting or slow convergence.\n",
    "- **`learning_schedule`**: LightFM employs 'adagrad' as its default learning schedule. This approach adapts the learning rate over time, allowing for an automatic decay. The adaptive nature of 'adagrad' makes the learning process more responsive to the data, enhancing the model's ability to converge to an optimal solution efficiently."
   ]
  },
  {
   "cell_type": "code",
   "execution_count": 6,
   "id": "94ab3048-b9e1-406b-aaee-9273068c391b",
   "metadata": {
    "execution": {
     "iopub.execute_input": "2024-01-29T17:41:31.578623Z",
     "iopub.status.busy": "2024-01-29T17:41:31.578275Z",
     "iopub.status.idle": "2024-01-29T17:41:31.688200Z",
     "shell.execute_reply": "2024-01-29T17:41:31.687203Z",
     "shell.execute_reply.started": "2024-01-29T17:41:31.578599Z"
    }
   },
   "outputs": [],
   "source": [
    "from lightfm import LightFM\n",
    "\n",
    "# Create the model\n",
    "model = LightFM(no_components=30, loss='warp', learning_rate=0.5, learning_schedule='adagrad')"
   ]
  },
  {
   "cell_type": "markdown",
   "id": "379d19f1-79d4-4a58-8687-676593e94122",
   "metadata": {},
   "source": [
    "### Training Process\n",
    "\n",
    "The training process involves using the LightFM model's `fit` method, where the model is trained to predict the `Correctness` of user-item interactions. This process is enhanced by considering the interaction weights, which add an additional layer of depth to the learning.\n",
    "\n",
    "#### Key Aspects of the Training:\n",
    "\n",
    "- **Fit the Model**: The `fit` method trains the model on our dataset. It learns to predict the `Correctness` of user-item pairs, considering both the interaction patterns and the additional item features we provided.\n",
    "- **Incorporating Weights**: The training utilizes the `weights` matrix generated during the creation of interactions. This matrix provides a nuanced view of each interaction, allowing the model to weigh the interactions differently based on their strength or importance.\n",
    "- **Epochs and Overfitting**: Training runs for a specified number of epochs. Each epoch is an iteration over the entire dataset. More epochs can improve the model's accuracy but also pose a risk of overfitting.\n",
    "- **Parallel Computation**: The `num_threads` parameter is used to specify the number of parallel computation threads, optimizing the training time.\n",
    "- **Tracking progress**: We will track the training progress by calcualting the Area Under the ROC Curve (AUC) at the end of each epoch. The AUC is a performance metric used to evaluate the quality of the model's predictions. In the context of LightFM, a higher AUC score indicates better model performance."
   ]
  },
  {
   "cell_type": "code",
   "execution_count": 7,
   "id": "384901da-3c87-4612-8d61-3221cfbefb43",
   "metadata": {
    "execution": {
     "iopub.execute_input": "2024-01-29T17:41:31.689564Z",
     "iopub.status.busy": "2024-01-29T17:41:31.689277Z",
     "iopub.status.idle": "2024-01-29T17:41:53.243208Z",
     "shell.execute_reply": "2024-01-29T17:41:53.242018Z",
     "shell.execute_reply.started": "2024-01-29T17:41:31.689539Z"
    }
   },
   "outputs": [],
   "source": [
    "from lightfm.evaluation import auc_score\n",
    "\n",
    "# Number of epochs to train\n",
    "num_epochs = 400\n",
    "\n",
    "# Initialize list to store AUC scores\n",
    "auc_scores = []\n",
    "\n",
    "# Training loop\n",
    "for epoch in range(num_epochs):\n",
    "    # Update the model for one more epoch\n",
    "    model.fit_partial(interactions, item_features=item_features, user_features=user_features, \n",
    "                      sample_weight=weights, epochs=1, num_threads=2)\n",
    "    # Calculate and store the AUC score\n",
    "    score = auc_score(model, interactions, item_features=item_features, user_features=user_features).mean()\n",
    "\n",
    "    auc_scores.append(score)"
   ]
  },
  {
   "cell_type": "markdown",
   "id": "d823fbca-2005-48d0-b9a6-17952c9c5564",
   "metadata": {},
   "source": [
    "Display the training progress:"
   ]
  },
  {
   "cell_type": "code",
   "execution_count": 8,
   "id": "56fafe82-a49e-4d0c-8545-a5df9011c66e",
   "metadata": {
    "execution": {
     "iopub.execute_input": "2024-01-29T17:41:53.245086Z",
     "iopub.status.busy": "2024-01-29T17:41:53.244782Z",
     "iopub.status.idle": "2024-01-29T17:41:53.894332Z",
     "shell.execute_reply": "2024-01-29T17:41:53.893110Z",
     "shell.execute_reply.started": "2024-01-29T17:41:53.245058Z"
    }
   },
   "outputs": [
    {
     "data": {
      "image/png": "[encoded data removed]",
      "text/plain": [
       "<Figure size 640x480 with 1 Axes>"
      ]
     },
     "metadata": {},
     "output_type": "display_data"
    }
   ],
   "source": [
    "import matplotlib.pyplot as plt\n",
    "\n",
    "# Plotting AUC scores over epochs\n",
    "plt.plot(auc_scores)\n",
    "plt.ylim(0.5,0.75)\n",
    "plt.xlabel('Epochs')\n",
    "plt.ylabel('AUC Score')\n",
    "plt.title('Model Training Progress')\n",
    "plt.grid(alpha=0.1)\n",
    "plt.show()"
   ]
  },
  {
   "cell_type": "markdown",
   "id": "28dd92ec-b381-4d9f-ae1e-b96317a3714d",
   "metadata": {},
   "source": [
    "### Outcome\n",
    "\n",
    "After training, the model will be able to predict how likely a student is to correctly solve a task, given the student's past interactions and the features of the tasks. These predictions can then be used to recommend appropriate difficulty levels of tasks to students, enhancing their learning experience."
   ]
  },
  {
   "cell_type": "markdown",
   "id": "4816cca3-e6ad-400c-b026-d5586dab108b",
   "metadata": {},
   "source": [
    "## Step 6: Model Evaluation and Generating Task Recommendations\n",
    "\n",
    "Having trained our LightFM model, we proceed to evaluate its effectiveness in predicting task completion success and use it to generate personalized task recommendations.\n",
    "\n",
    "### Model Evaluation\n",
    "\n",
    "For evaluating the model, we employ the `precision_at_k` metric. This metric can be used to assess how accurately the model predicts tasks that a student is likely to complete successfully.\n",
    "\n",
    "- **`precision_at_k`**:\n",
    "  - **Purpose**: Measures the model's precision in recommending the top `k` tasks. Specifically, it evaluates whether the tasks predicted as likely to be completed successfully by the student (based on the model's scoring) are indeed among those that the student has successfully completed in the past.\n",
    "  - **Calculation**: It calculates the proportion of recommended tasks in the top `k` that were actually completed successfully by the student.\n",
    "  - **Meaning**: A higher `precision_at_k` score indicates that the model is effectively identifying tasks that align with the student's ability to complete them successfully."
   ]
  },
  {
   "cell_type": "code",
   "execution_count": 9,
   "id": "f70d2d8b-561a-47b1-b17a-dff02066425e",
   "metadata": {
    "execution": {
     "iopub.execute_input": "2024-01-29T17:41:53.895834Z",
     "iopub.status.busy": "2024-01-29T17:41:53.895505Z",
     "iopub.status.idle": "2024-01-29T17:41:53.907556Z",
     "shell.execute_reply": "2024-01-29T17:41:53.906561Z",
     "shell.execute_reply.started": "2024-01-29T17:41:53.895809Z"
    }
   },
   "outputs": [
    {
     "name": "stdout",
     "output_type": "stream",
     "text": [
      "Train Precision at k=5: 0.9540001153945923\n"
     ]
    }
   ],
   "source": [
    "from lightfm.evaluation import precision_at_k\n",
    "\n",
    "# Evaluate the model's precision\n",
    "train_precision = precision_at_k(model, interactions, \n",
    "                                 item_features=item_features, user_features=user_features, k=5).mean()\n",
    "\n",
    "print(f'Train Precision at k=5: {train_precision}')"
   ]
  },
  {
   "cell_type": "markdown",
   "id": "7c73e605-8fda-4028-b882-e6e41ee18d02",
   "metadata": {},
   "source": [
    "### Generating Task Recommendations\n",
    "\n",
    "To generate personalized task recommendations for a specific student, we utilize the `predict` method in LightFM:\n",
    "\n",
    "- **`predict` Method**: This function calculates the likelihood scores for all tasks for a given student. These scores reflect the model's confidence in how well the student might perform on each task, based on their past performance and the task's characteristics.\n",
    "- **Task Ranking**: Using `np.argsort`, we rank the tasks based on their predicted scores. This ranking helps us identify which tasks the model believes the student is most likely to complete successfully.\n",
    "- **Mapping Indices**: `dataset.mapping()` is used to translate the internal indices of the LightFM dataset back to the original task IDs. This conversion is necessary to identify the actual tasks corresponding to the model's predictions.\n",
    "- **Selecting the Optimal Challenge**: Among the top-ranked tasks, we identify the task with the highest difficulty level. This approach ensures that the recommendation not only aligns with the student's ability but also offers an appropriate level of challenge to facilitate learning progression.\n",
    "\n",
    "This methodology for generating recommendations aims to strike a balance between matching the student's current skill level and providing an opportunity for growth by introducing them to tasks that are suitably challenging.\n",
    "\n",
    "> **Note** While this recommender system serves as a foundational example, it is relatively basic in its approach. In a real-world educational context, a more sophisticated and comprehensive system would be necessary. Such a system would ideally factor in a wider range of student-specific variables and learning analytics to accurately recommend the most beneficial next activity for each student's individual learning journey."
   ]
  },
  {
   "cell_type": "code",
   "execution_count": 10,
   "id": "1e9f7e0e-951d-485a-a72d-11f50a5b5f66",
   "metadata": {
    "execution": {
     "iopub.execute_input": "2024-01-29T17:41:53.909119Z",
     "iopub.status.busy": "2024-01-29T17:41:53.908819Z",
     "iopub.status.idle": "2024-01-29T17:41:54.018124Z",
     "shell.execute_reply": "2024-01-29T17:41:54.017154Z",
     "shell.execute_reply.started": "2024-01-29T17:41:53.909095Z"
    }
   },
   "outputs": [
    {
     "name": "stdout",
     "output_type": "stream",
     "text": [
      "Recommended Task for Student 1 at 25 days since start: Task 233, Difficulty: Hard\n"
     ]
    }
   ],
   "source": [
    "def recommend_for_student(student_id, days_since_start, model, df, fixed_threshold=0.9):\n",
    "    # Mapping student_id to internal index used by the model\n",
    "    student_idx = dataset.mapping()[0][student_id]\n",
    "\n",
    "    # Identifying tasks already completed by the student to avoid re-recommendation\n",
    "    completed_tasks_ids = df[df['StudentID'] == student_id]['ProblemID'].unique()\n",
    "    completed_tasks_indices = [dataset.mapping()[2].get(task_id) for task_id in completed_tasks_ids]\n",
    "\n",
    "    # Building user features using the provided days_since_start\n",
    "    user_features = dataset.build_user_features([(student_id, [str(days_since_start)])])\n",
    "\n",
    "    # Predicting scores for all tasks\n",
    "    all_tasks = np.arange(interactions.shape[1])\n",
    "    scores = model.predict(student_idx, all_tasks, item_features=item_features, user_features=user_features)\n",
    "\n",
    "    # Normalizing scores to a [0, 1] range for consistent thresholding\n",
    "    min_score, max_score = min(scores), max(scores)\n",
    "    normalized_scores = (scores - min_score) / (max_score - min_score) if max_score > min_score else scores\n",
    "\n",
    "    # Filtering tasks based on the normalized score threshold\n",
    "    filtered_tasks = [(score, task) for score, task in zip(normalized_scores, all_tasks) \n",
    "                      if score > fixed_threshold and task not in completed_tasks_indices]\n",
    "    filtered_tasks.sort(reverse=True)\n",
    "\n",
    "    # Attempt to recommend a 'Hard' task first, then a 'Medium' task if no 'Hard' tasks meet the criteria\n",
    "    for difficulty in ['Hard', 'Medium']:\n",
    "        for _, task_index in filtered_tasks:\n",
    "            task_id = dataset.mapping()[2][task_index]\n",
    "            task_difficulty = df[df['ProblemID'] == task_id]['ProblemDifficulty'].iloc[0]\n",
    "            \n",
    "            if task_difficulty == difficulty:\n",
    "                return task_id, task_difficulty\n",
    "\n",
    "    # Default to the highest-scoring task if no 'Hard' or 'Medium' tasks meet the criteria\n",
    "    highest_scoring_task = dataset.mapping()[2][filtered_tasks[0][1]]\n",
    "    task_difficulty = df[df['ProblemID'] == highest_scoring_task]['ProblemDifficulty'].iloc[0]\n",
    "    return highest_scoring_task, task_difficulty\n",
    "\n",
    "# Example usage\n",
    "student_id = 1\n",
    "days_since_start = 25\n",
    "recommended_task, task_difficulty = recommend_for_student(student_id, days_since_start, model, df)\n",
    "print(f\"Recommended Task for Student {student_id} at {days_since_start} days since start: Task {recommended_task}, Difficulty: {task_difficulty}\")"
   ]
  },
  {
   "cell_type": "markdown",
   "id": "b849f57b-5fe5-4859-8d1c-7cd6f2824675",
   "metadata": {},
   "source": [
    "### Conclusion\n",
    "\n",
    "This step completes the end-to-end process of building, training, evaluating, and utilizing a recommender system using LightFM. The model's precision provides an indication of its effectiveness, and the recommendation function can be used to suggest personalized tasks to individual students, enhancing their learning experience."
   ]
  }
 ],
 "metadata": {
  "kernelspec": {
   "display_name": "Python 3 (ipykernel)",
   "language": "python",
   "name": "python3"
  },
  "language_info": {
   "codemirror_mode": {
    "name": "ipython",
    "version": 3
   },
   "file_extension": ".py",
   "mimetype": "text/x-python",
   "name": "python",
   "nbconvert_exporter": "python",
   "pygments_lexer": "ipython3",
   "version": "3.10.13"
  }
 },
 "nbformat": 4,
 "nbformat_minor": 5
}
