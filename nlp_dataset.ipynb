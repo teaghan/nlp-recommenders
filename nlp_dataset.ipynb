{
 "cells": [
  {
   "cell_type": "markdown",
   "id": "18bb33cc-ec03-45e2-a400-ccf6d00250c7",
   "metadata": {},
   "source": [
    "# Developing a Mock Dataset using the OpenAI GPT API\n",
    "\n",
    "In this tutorial, we will guide you through the process of creating a mock dataset using the OpenAI GPT API. This dataset will simulate English writing assignments from students across different grade levels. We'll leverage the power of OpenAI's language model to generate text responses that mimic the writing style of students from grades 3 to 12.\n",
    "\n",
    "## Setting Up the Environment\n",
    "\n",
    "First, we need to set up our Python environment by importing necessary libraries and loading the OpenAI API key."
   ]
  },
  {
   "cell_type": "code",
   "execution_count": 1,
   "id": "bbeee0fe-1ec8-4a1c-ac2c-8b088c3933b3",
   "metadata": {
    "execution": {
     "iopub.execute_input": "2024-01-30T05:27:44.710625Z",
     "iopub.status.busy": "2024-01-30T05:27:44.710354Z",
     "iopub.status.idle": "2024-01-30T05:27:44.992252Z",
     "shell.execute_reply": "2024-01-30T05:27:44.991334Z",
     "shell.execute_reply.started": "2024-01-30T05:27:44.710597Z"
    }
   },
   "outputs": [],
   "source": [
    "import numpy as np\n",
    "import h5py\n",
    "from time import sleep\n",
    "import openai\n",
    "from openai.error import APIError\n",
    "\n",
    "def load_api_key(key_file='../educational-prompt-engineering/key.txt'):\n",
    "    with open(key_file) as f:\n",
    "        # Get API key from text file\n",
    "        key = f.read().strip(\"\\n\")\n",
    "    return key\n",
    "\n",
    "openai.api_key = load_api_key()"
   ]
  },
  {
   "cell_type": "markdown",
   "id": "16deb027-8bad-4646-8437-471cca5fee02",
   "metadata": {},
   "source": [
    "## Generating Prompts\n",
    "\n",
    "To simulate different grade levels, we create a function that generates a prompt contextualized to a specific grade. This prompt will instruct the OpenAI model to generate a paragraph typical of a student in that grade.\n",
    "\n",
    "### Prompt Structure:\n",
    "- **Contextual Setup**: The prompt includes a context setup specifying the grade level and the nature of the task (writing a paragraph).\n",
    "- **Response Format**: It instructs the model to list a topic and purpose followed by the paragraph, mimicking a typical school assignment."
   ]
  },
  {
   "cell_type": "code",
   "execution_count": 2,
   "id": "9f32e303-52c4-4317-9ece-2cde88cb0cec",
   "metadata": {
    "execution": {
     "iopub.execute_input": "2024-01-30T05:27:45.005983Z",
     "iopub.status.busy": "2024-01-30T05:27:45.005740Z",
     "iopub.status.idle": "2024-01-30T05:27:45.011904Z",
     "shell.execute_reply": "2024-01-30T05:27:45.010898Z",
     "shell.execute_reply.started": "2024-01-30T05:27:45.005957Z"
    }
   },
   "outputs": [
    {
     "name": "stdout",
     "output_type": "stream",
     "text": [
      "# CONTEXT #\n",
      "\n",
      "You are a grade 10 student in an English class.\n",
      "\n",
      "# TASK #\n",
      "\n",
      "Write a paragraph on a topic assigned by your teacher for a purpose that is also assigned by your teacher.\n",
      "\n",
      "# RESPONSE #\n",
      "\n",
      "First list the topic and purpose in the form: \n",
      "\n",
      "# Topic: {insert_topic_here}\n",
      "\n",
      "# Purpose: {insert_purpose_here}\n",
      "\n",
      " Then follow this with your paragraph. Write in the style and at the level that is appropriate for a 10 student.\n"
     ]
    }
   ],
   "source": [
    "def develop_prompt(grade):\n",
    "    context = f'You are a grade {grade} student in an English class who writes at the average level for a student in grade {grade}.'\n",
    "    task = 'Write a paragraph on a topic assigned by your teacher for a purpose that is also assigned by your teacher.'\n",
    "    response = ('First list the topic and purpose in the form: \\n\\n# Topic: {insert_topic_here}\\n\\n# Purpose: {insert_purpose_here}\\n\\n Then follow '+\n",
    "                f'this with your paragraph. Write in the style and at the level that is appropriate for a {grade} student.')\n",
    "\n",
    "    # Put it all together\n",
    "    prompt = f'# CONTEXT #\\n\\n{context}\\n\\n# TASK #\\n\\n{task}\\n\\n# RESPONSE #\\n\\n{response}'\n",
    "\n",
    "    return prompt\n",
    "grade = 10\n",
    "print(develop_prompt(grade=grade))"
   ]
  },
  {
   "cell_type": "markdown",
   "id": "d6b2c6dc-821f-4367-a040-4a74ecf3111d",
   "metadata": {},
   "source": [
    "## Example Response from GPT\n",
    "\n",
    "We use the OpenAI GPT model to generate a response based on our prompt. The response simulates a student's paragraph, including a topic and purpose.\n",
    "\n",
    "### Interaction Details:\n",
    "- **Model Selection**: The GPT-3.5 model is used for its advanced language generation capabilities and speed.\n",
    "- **Token Limit**: `max_tokens` defines the maximum length of the generated response."
   ]
  },
  {
   "cell_type": "code",
   "execution_count": 3,
   "id": "f4b7dc20-21d9-45b8-ae84-79f7bddcb775",
   "metadata": {
    "execution": {
     "iopub.execute_input": "2024-01-30T05:27:45.013318Z",
     "iopub.status.busy": "2024-01-30T05:27:45.012972Z",
     "iopub.status.idle": "2024-01-30T05:27:57.135555Z",
     "shell.execute_reply": "2024-01-30T05:27:57.134553Z",
     "shell.execute_reply.started": "2024-01-30T05:27:45.013277Z"
    }
   },
   "outputs": [
    {
     "name": "stdout",
     "output_type": "stream",
     "text": [
      "# Topic: The Importance of Exercise\n",
      "\n",
      "# Purpose: To persuade readers to incorporate regular exercise into their daily routine\n",
      "\n",
      "Exercise is an essential part of a healthy lifestyle, and its importance cannot be overstated. Regular physical activity provides numerous benefits to both our physical and mental well-being. First and foremost, exercise helps to maintain a healthy weight by burning calories and boosting metabolism. It plays a crucial role in preventing a wide range of health problems, including heart disease, diabetes, and certain types of cancer. Additionally, working out helps to strengthen our muscles and bones, improving our overall strength and flexibility. Physical activity also has a significant impact on our mental health, as it releases endorphins, which are natural \"feel-good\" chemicals that help reduce feelings of stress and anxiety. Furthermore, exercise can improve our sleep patterns, enhance our mood, and boost our self-esteem. In conclusion, incorporating regular exercise into our daily routine is vital for maintaining a healthy body and mind. So, let's prioritize physical activity and make it a part of our lifestyle for a better and happier life.\n"
     ]
    }
   ],
   "source": [
    "model = 'gpt-3.5-turbo' \n",
    "max_tokens = 1000\n",
    "\n",
    "# Define the prompt\n",
    "prompt = develop_prompt(grade)\n",
    "\n",
    "messages = [{'role': 'system', 'content': 'You are a helpful assistant who excels at generating randomized paragraph topics, purposes, and text content.'},\n",
    "            {'role': 'user', 'content': prompt}]\n",
    "\n",
    "response = openai.ChatCompletion.create(model=model, messages=messages, max_tokens=max_tokens)\n",
    "\n",
    "txt = response['choices'][0]['message']['content']\n",
    "print(txt)"
   ]
  },
  {
   "cell_type": "markdown",
   "id": "2402327d-9bb1-44a9-bf05-55873cf6e498",
   "metadata": {},
   "source": [
    "## Creating a Randomized Dataset\n",
    "\n",
    "Our goal is to create a diverse and realistic dataset of student writings across different grades. To achieve this, we generate text for a large number of mock students.\n",
    "\n",
    "### Dataset Creation Process:\n",
    "- **HDF5 File**: We use an HDF5 file to store the dataset efficiently.\n",
    "- **Loop for Data Generation**: For each mock student, a grade is randomly chosen, a prompt is generated, and a response from the OpenAI API is obtained and stored."
   ]
  },
  {
   "cell_type": "code",
   "execution_count": null,
   "id": "8edd7b9f-ed6b-49f1-b850-cfd8e78af10b",
   "metadata": {
    "execution": {
     "iopub.execute_input": "2024-01-30T12:04:57.285267Z",
     "iopub.status.busy": "2024-01-30T12:04:57.284825Z"
    }
   },
   "outputs": [
    {
     "name": "stdout",
     "output_type": "stream",
     "text": [
      "62 complete...\r"
     ]
    }
   ],
   "source": [
    "num_students = 5000\n",
    "model = 'gpt-3.5-turbo'\n",
    "max_tokens = 1000\n",
    "n_messages = 3\n",
    "\n",
    "# Create a new HDF5 file\n",
    "mode = 'a'\n",
    "with h5py.File('data/grades_texts_new.h5', mode) as h5f:\n",
    "    # Create a dataset for grades with maximum size\n",
    "    if mode=='w':\n",
    "        max_size = (None,)  # None indicates an unlimited dimension\n",
    "        grade_dset = h5f.create_dataset('grade', shape=(0,), maxshape=max_size, dtype='i')\n",
    "    \n",
    "        # Create a special datatype for variable-length strings\n",
    "        dt = h5py.special_dtype(vlen=str)\n",
    "    \n",
    "        # Create a dataset for texts with the special datatype and maximum size\n",
    "        text_dset = h5f.create_dataset('text', shape=(0,), maxshape=max_size, dtype=dt)\n",
    "    elif mode=='a':\n",
    "        # Append to existing datafile\n",
    "        grade_dset = h5f['grade']\n",
    "        text_dset = h5f['text']\n",
    "\n",
    "    # Being message thread\n",
    "    if mode=='w':\n",
    "        messages = [{'role': 'system', 'content': 'You are a helpful assistant who excels at generating randomized paragraph topics, purposes, and text content.'}]\n",
    "    # Append data to datasets in a loop\n",
    "    for i in range(num_students):\n",
    "        grade = np.random.choice(np.arange(3,13))\n",
    "\n",
    "        # Define the prompt\n",
    "        prompt = develop_prompt(grade)\n",
    "        messages.append({'role': 'user', 'content': prompt})\n",
    "\n",
    "        # Prompt GPT with some randomness\n",
    "        try:\n",
    "            response = openai.ChatCompletion.create(model=model, messages=messages, max_tokens=max_tokens, \n",
    "                                                    seed=np.random.randint(0,1e5), temperature=np.random.uniform(0.7,1.3))\n",
    "        except APIError as e:\n",
    "            print('Server Error')\n",
    "            sleep(10)\n",
    "            continue\n",
    "        # Obtain response\n",
    "        text = response['choices'][0]['message']['content']\n",
    "\n",
    "        # Save response as part of the conversation (or else it repeats its responses)\n",
    "        messages.append({'role': 'assistant', 'content': text})\n",
    "        # Only keep the last n_messages back-and-forths\n",
    "        if len(messages)>(2*n_messages):\n",
    "            messages = [messages[0]] + messages[-int(2*n_messages):]\n",
    "        # Make sure last message was the assistant\n",
    "        while messages[-1]['role']=='user':\n",
    "            messages = messages[:-1]\n",
    "\n",
    "        # Resize datasets to accommodate new data\n",
    "        grade_dset.resize((len(grade_dset) + 1,))\n",
    "        text_dset.resize((len(text_dset) + 1,))\n",
    "\n",
    "        # Assign data\n",
    "        grade_dset[-1] = grade\n",
    "        text_dset[-1] = text\n",
    "\n",
    "        print(f'{i+1} complete...', end='\\r')\n"
   ]
  },
  {
   "cell_type": "markdown",
   "id": "9718ec58-5e56-4bb4-bbed-e1963d90426a",
   "metadata": {},
   "source": [
    "## Inspecting the Generated Data\n",
    "\n",
    "Finally, we can inspect the generated dataset by reading from the HDF5 file. This step is crucial for verifying the quality and diversity of our mock dataset."
   ]
  },
  {
   "cell_type": "code",
   "execution_count": 7,
   "id": "a1411f6f-c931-4a9f-9e12-f55c18e713ff",
   "metadata": {
    "execution": {
     "iopub.execute_input": "2024-01-30T11:54:59.614436Z",
     "iopub.status.busy": "2024-01-30T11:54:59.613855Z",
     "iopub.status.idle": "2024-01-30T11:54:59.632529Z",
     "shell.execute_reply": "2024-01-30T11:54:59.631483Z",
     "shell.execute_reply.started": "2024-01-30T11:54:59.614384Z"
    }
   },
   "outputs": [
    {
     "name": "stdout",
     "output_type": "stream",
     "text": [
      "\n",
      "# Grade:  4 \n",
      "\n",
      "# Topic: My Favorite Hobby\n",
      "\n",
      "# Purpose: To describe and share enthusiasm about a favorite hobby.\n",
      "\n",
      "My favorite hobby is drawing. I love to pick up my colored pencils and create beautiful pictures. When I draw, I can let my imagination run wild and create anything I want. I draw people, animals, and even imaginary creatures that come straight from my mind. Drawing makes me feel happy and relaxed, like I'm in my own little world. It's a way for me to express myself and show others what I see in my imagination. I also enjoy looking at other people's drawings and learning new techniques. Drawing is a hobby that I can do anywhere, whether it's at home or even during a fun day at the park. It's a wonderful way for me to spend my free time and bring my ideas to life on paper.\n",
      "\n",
      "# Grade:  6 \n",
      "\n",
      "# Topic: The Importance of Friendship\n",
      "\n",
      "# Purpose: To explain why having friends is important and how it positively impacts our lives.\n",
      "\n",
      "Having friends is really important in our lives. Friends are like the sunshine on a cloudy day, they bring joy and happiness into our lives. They are always there for us, to support and encourage us when we need it the most. Friends help us to grow and learn new things. They teach us how to share, how to cooperate, and how to be kind to others. With friends, we can have fun, laugh, and create lasting memories. They make our lives richer and more meaningful. Friends also provide us with a sense of belonging and acceptance. When we have friends, we feel like we belong to a special group where we are accepted for who we are. They listen to us, understand us, and value our opinions. Having friends also helps us to develop important social skills, like how to communicate effectively, how to resolve conflicts, and how to be a good listener. We learn from each other and grow together. So, let’s appreciate our friendships and cherish the special bond we share with our friends. They make our lives brighter and more beautiful!\n",
      "\n",
      "# Grade:  7 \n",
      "\n",
      "# Topic: The Impact of Social Media\n",
      "\n",
      "# Purpose: To discuss the positive and negative effects of social media on individuals and society.\n",
      "\n",
      "Social media has become a big part of our lives, with many benefits and drawbacks. On one hand, social media allows us to connect with friends and family from all over the world. We can share updates, photos, and videos instantly with a simple click. It helps us stay connected and maintain relationships, especially with those who are far away. Social media also provides a platform for us to express ourselves, share our thoughts, and engage in discussions on topics we care about. It can be a great source of information and a way to learn new things. However, social media also has its downsides. It can sometimes be a distraction and consume too much of our time. It can lead to feelings of jealousy and insecurity when we compare ourselves to others' highlight reels. Additionally, social media can sometimes be a breeding ground for cyberbullying and spreading false information. It's important to use social media responsibly and be mindful of what we post and share. Overall, social media can be a powerful tool for connection and self-expression, but it's essential to strike a balance and use it wisely.\n",
      "\n",
      "# Grade:  8 \n",
      "\n",
      "# Topic: The Importance of Environmental Conservation\n",
      "\n",
      "# Purpose: To explain why environmental conservation is crucial for the health of the planet and future generations.\n",
      "\n",
      "Environmental conservation is of utmost importance for the well-being of our planet and the generations to come. Our actions have a direct impact on the environment, and it is our responsibility to take care of it. Conservation means protecting and preserving natural resources, such as trees, water, and wildlife. By conserving these resources, we can ensure that they are available for future generations. One crucial aspect of environmental conservation is reducing our carbon footprint. This means using energy more efficiently, reducing waste, and embracing renewable energy sources. Conserving water is also essential, as it is a limited resource. We can do this by taking shorter showers, fixing leaky faucets, and using water wisely. Another crucial aspect of environmental conservation is protecting wildlife and their habitats. This includes preserving forests, wetlands, and other ecosystems that provide food and shelter for a wide variety of species. It also involves practicing responsible fishing and hunting, as well as supporting conservation organizations. Additionally, recycling plays a significant role in environmental conservation by reducing waste and minimizing the need for raw materials. By embracing sustainable practices and making conscious choices in our daily lives, we can contribute to the conservation of our environment. Let us all remember that we are stewards of this planet, and it is our duty to protect and preserve it for future generations.\n",
      "\n",
      "# Grade:  12 \n",
      "\n",
      "# Topic: The Impact of Technology on Society\n",
      "\n",
      "# Purpose: To analyze the multifaceted effects of technology on society, including both positive and negative aspects.\n",
      "\n",
      "Technology has transformed our society in myriad ways, shaping our daily lives and influencing the world around us. One positive impact of technology is the tremendous improvement in communication. With the advent of smartphones and social media platforms, we can connect with people from all corners of the globe, fostering cross-cultural understanding and empathy. Moreover, technology has revolutionized various industries, such as healthcare, transportation, and entertainment. Medical advancements have increased life expectancy and improved the quality of healthcare services. Transportation has become faster, more efficient, and greener, contributing to sustainable development. Additionally, technology has revolutionized entertainment, offering instant access to a vast array of movies, shows, and music, giving individuals an avenue for creative expression. However, alongside the positive impacts, we must also consider the negative ramifications of technology. Excessive use of technology has led to concerns such as addictive behaviors, cyberbullying, and privacy breaches. Moreover, there is growing research regarding the effects of technological reliance on mental health and societal well-being. In conclusion, technology has undoubtedly transformed society, offering innovative solutions to global challenges and enhancing quality of life. However, it is essential to exercise caution and balance technology usage, mitigating its potential negative impacts and harnessing its benefits for the greater good.\n",
      "\n",
      "# Grade:  3 \n",
      "\n",
      "# Topic: My Favorite Animal\n",
      "\n",
      "# Purpose: To describe and share why a particular animal is my favorite.\n",
      "\n",
      "My favorite animal is the elephant. Elephants are big and strong. They have a long trunk that they can use to reach high up in the trees and drink water. I love how elephants have big floppy ears that they can use to stay cool. They have a long memory and are very smart animals. Elephants also live in families called herds, where they take care of each other. They are gentle and kind. When I see elephants at the zoo or on TV, I feel excited and happy. I love learning more about them and their habitats. Elephants are my favorite animal because they are fascinating, beautiful, and special.\n",
      "\n",
      "# Grade:  6 \n",
      "\n",
      "# Topic: The Importance of Exercise\n",
      "\n",
      "# Purpose: To explain the benefits of regular exercise and the positive impact it has on our physical and mental health.\n",
      "\n",
      "Exercise is an essential part of our daily routine, and it brings many benefits to our overall well-being. First and foremost, exercising helps keep our bodies healthy and fit. It strengthens our muscles and bones, improves our flexibility, and helps us maintain a healthy weight. Regular exercise also keeps our hearts healthy by promoting good blood circulation and reducing the risk of heart disease. Moreover, exercise is not only beneficial for our physical health, but it also has positive effects on our mental well-being. When we exercise, our bodies release chemicals called endorphins that can boost our mood and make us feel happy. Exercise also reduces stress, anxiety, and improves our ability to concentrate. Additionally, it is a great way to socialize and have fun with friends and family. Whether it's playing sports, going for a bike ride, or simply dancing to our favorite music, exercise can be enjoyable and fulfilling. So let's be active and make exercise a regular part of our lives. It's not only good for our bodies, but it also makes us feel great mentally and emotionally.\n",
      "\n",
      "# Grade:  5 \n",
      "\n",
      "# Topic: My Favorite Book\n",
      "\n",
      "# Purpose: To share and explain why a particular book is my favorite.\n",
      "\n",
      "My favorite book is \"Charlotte's Web\" by E.B. White. It tells the story of a special friendship between a pig named Wilbur and a clever spider named Charlotte. I love this book because it teaches me important lessons about kindness, friendship, and the power of words. Wilbur is a loving and funny pig, and Charlotte is a smart and caring spider. They work together to save Wilbur from becoming dinner and teach everyone around them the value of being compassionate. Throughout the story, Charlotte spins webs with words like \"Some Pig,\" \"Terrific,\" and \"Radiant,\" to show how amazing Wilbur truly is. The story makes me feel happy, excited, and sometimes a little sad. It also reminds me to be kind to others and use my words for good, just like Charlotte did. Whenever I read \"Charlotte's Web,\" it feels like Wilbur and Charlotte are real friends, and that makes me feel warm inside. This is why \"Charlotte's Web\" is my favorite book, and I hope more people will get to read and enjoy it.\n",
      "\n",
      "# Grade:  12 \n",
      "\n",
      "# Topic: The Impact of Social Media on Society\n",
      "\n",
      "# Purpose: To examine the effects of social media on individuals, communities, and society as a whole, considering both positive and negative aspects.\n",
      "\n",
      "Social media has revolutionized the way we interact, communicate, and share information in today's technology-driven world. It has become an integral part of our lives, impacting individuals, communities, and society as a whole. On one hand, social media has broken down geographical barriers, connecting people from different corners of the world and fostering global friendships. It provides a platform for self-expression, enabling individuals to share their thoughts, ideas, and creativity with a wider audience. Moreover, social media has facilitated activism and civic engagement, empowering individuals to raise awareness about social and political issues and mobilize for change. It has played a significant role in catalyzing social movements, giving marginalized voices a platform for advocacy. However, the rise of social media has also posed challenges and negative implications. The excessive use of social media can lead to addictive behaviors, detrimental effects on mental health, and a distorted sense of reality through carefully curated digital personas. Additionally, the spread of misinformation and the lack of privacy and security on social media platforms have raised concerns about the reliability and trustworthiness of the information shared online. It is crucial for individuals to be aware of these challenges and use social media responsibly, critically evaluating the information they encounter and practicing digital citizenship. As we navigate the complex impacts of social media, it is important to strike a balance between leveraging its benefits while also being mindful of its potential drawbacks.\n",
      "\n",
      "# Grade:  10 \n",
      "\n",
      "# Topic: Climate Change\n",
      "\n",
      "# Purpose: To discuss the causes and consequences of climate change and the importance of taking action to mitigate its effects.\n",
      "\n",
      "Climate change is a pressing issue that affects our planet and all living beings. It is primarily caused by human activities, such as burning fossil fuels and deforestation, which release greenhouse gases into the atmosphere. These gases trap heat and contribute to the warming of the Earth's surface, leading to a range of detrimental consequences. One of the major impacts of climate change is the alteration of weather patterns, resulting in extreme weather events like hurricanes, heatwaves, and droughts. Rising global temperatures also lead to the melting of polar ice caps and the subsequent rise in sea levels, posing a threat to coastal communities and ecosystems. Furthermore, climate change disrupts ecological systems, causing the extinction of species and the loss of biodiversity. It is crucial for us to take action to mitigate the effects of climate change and transition towards sustainable practices. This includes reducing our carbon footprint by embracing renewable energy sources, promoting energy efficiency, and adopting environmentally friendly habits. Additionally, we must advocate for policies that prioritize the preservation and restoration of natural habitats and invest in climate adaptation and resilience. By raising awareness and working collectively, we can make a positive impact and ensure a sustainable future for ourselves and future generations.\n"
     ]
    }
   ],
   "source": [
    "with h5py.File('data/grades_texts_new.h5', 'r') as h5f:\n",
    "    for i in range(10,20):\n",
    "        print('\\n# Grade: ', int(h5f['grade'][i]),'\\n',)\n",
    "        print(h5f['text'][i].decode('utf-8'))"
   ]
  }
 ],
 "metadata": {
  "kernelspec": {
   "display_name": "Python 3 (ipykernel)",
   "language": "python",
   "name": "python3"
  },
  "language_info": {
   "codemirror_mode": {
    "name": "ipython",
    "version": 3
   },
   "file_extension": ".py",
   "mimetype": "text/x-python",
   "name": "python",
   "nbconvert_exporter": "python",
   "pygments_lexer": "ipython3",
   "version": "3.10.13"
  }
 },
 "nbformat": 4,
 "nbformat_minor": 5
}
