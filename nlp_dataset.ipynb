{
 "cells": [
  {
   "cell_type": "markdown",
   "id": "18bb33cc-ec03-45e2-a400-ccf6d00250c7",
   "metadata": {},
   "source": [
    "# Developing a Mock Dataset using the OpenAI GPT API\n",
    "\n",
    "In this tutorial, we will guide you through the process of creating a mock dataset using the OpenAI GPT API. This dataset will simulate English writing assignments from students across different grade levels. We'll leverage the power of OpenAI's language model to generate text responses that mimic the writing style of students from grades 3 to 12.\n",
    "\n",
    "## Setting Up the Environment\n",
    "\n",
    "First, we need to set up our Python environment by importing necessary libraries and loading the OpenAI API key."
   ]
  },
  {
   "cell_type": "code",
   "execution_count": 1,
   "id": "bbeee0fe-1ec8-4a1c-ac2c-8b088c3933b3",
   "metadata": {
    "execution": {
     "iopub.execute_input": "2024-01-30T13:27:18.940737Z",
     "iopub.status.busy": "2024-01-30T13:27:18.940406Z",
     "iopub.status.idle": "2024-01-30T13:27:25.563090Z",
     "shell.execute_reply": "2024-01-30T13:27:25.562051Z",
     "shell.execute_reply.started": "2024-01-30T13:27:18.940690Z"
    }
   },
   "outputs": [],
   "source": [
    "import numpy as np\n",
    "import h5py\n",
    "import time\n",
    "import openai\n",
    "from openai.error import APIError\n",
    "\n",
    "def load_api_key(key_file='../educational-prompt-engineering/key.txt'):\n",
    "    with open(key_file) as f:\n",
    "        # Get API key from text file\n",
    "        key = f.read().strip(\"\\n\")\n",
    "    return key\n",
    "\n",
    "openai.api_key = load_api_key()"
   ]
  },
  {
   "cell_type": "markdown",
   "id": "16deb027-8bad-4646-8437-471cca5fee02",
   "metadata": {},
   "source": [
    "## Generating Prompts\n",
    "\n",
    "To simulate different grade levels, we create a function that generates a prompt contextualized to a specific grade. This prompt will instruct the OpenAI model to generate a paragraph typical of a student in that grade.\n",
    "\n",
    "### Prompt Structure:\n",
    "- **Contextual Setup**: The prompt includes a context setup specifying the grade level and the nature of the task (writing a paragraph).\n",
    "- **Randomly Generated Personas**: We integrate a set of pre-defined personas that can be randomly selected for each prompt, which helps produce more randomness in the responses.\n",
    "- **Response Format**: It instructs the model to list a topic and purpose followed by the paragraph, mimicking a typical school assignment."
   ]
  },
  {
   "cell_type": "code",
   "execution_count": 2,
   "id": "7980c3a0-3ddf-47d4-93c0-70e8b310d800",
   "metadata": {
    "execution": {
     "iopub.execute_input": "2024-01-30T13:31:00.208932Z",
     "iopub.status.busy": "2024-01-30T13:31:00.208652Z",
     "iopub.status.idle": "2024-01-30T13:31:00.216142Z",
     "shell.execute_reply": "2024-01-30T13:31:00.215318Z",
     "shell.execute_reply.started": "2024-01-30T13:31:00.208907Z"
    }
   },
   "outputs": [
    {
     "name": "stdout",
     "output_type": "stream",
     "text": [
      "# PERSONA #\n",
      "\n",
      "As an animal lover, you are interested in learning about different species.\n",
      "\n",
      "# CONTEXT #\n",
      "\n",
      "You are writing a grade 10 English assignment.\n",
      "\n",
      "# TASK #\n",
      "\n",
      "Write a paragraph on a topic assigned by your teacher.\n",
      "\n",
      "# RESPONSE #\n",
      "\n",
      "First list the topic and purpose in the form: \n",
      "\n",
      "# Topic: {insert_topic_here}\n",
      "\n",
      "# Purpose: {insert_purpose_here}\n",
      "\n",
      "Then follow this with your paragraph. Write in the style and at the level that is appropriate for a grade 10 student.\n"
     ]
    }
   ],
   "source": [
    "def load_personas(file_path):\n",
    "    with open(file_path, 'r') as file:\n",
    "        personas = [line.strip() for line in file]\n",
    "    return personas\n",
    "\n",
    "def develop_prompt(grade, personas):\n",
    "    persona = np.random.choice(personas)\n",
    "    task = 'Write a paragraph on a topic assigned by your teacher.'\n",
    "    response = ('First list the topic and purpose in the form: \\n\\n# Topic: {insert_topic_here}\\n\\n# Purpose: {insert_purpose_here}\\n\\nThen follow '+\n",
    "                f'this with your paragraph. Write in the style and at the level that is appropriate for a grade {grade} student.')\n",
    "    prompt = f'# PERSONA #\\n\\n{persona}\\n\\n# CONTEXT #\\n\\nYou are writing a grade {grade} English assignment.\\n\\n# TASK #\\n\\n{task}\\n\\n# RESPONSE #\\n\\n{response}'\n",
    "    return prompt\n",
    "\n",
    "# Set grade level\n",
    "grade = 10\n",
    "# Load personas\n",
    "personas = load_personas('data/prompt_personas.txt')\n",
    "# Construct prompt\n",
    "prompt = develop_prompt(grade=grade, personas=personas)\n",
    "print(prompt)"
   ]
  },
  {
   "cell_type": "markdown",
   "id": "d6b2c6dc-821f-4367-a040-4a74ecf3111d",
   "metadata": {},
   "source": [
    "## Example Response from GPT\n",
    "\n",
    "We use the OpenAI GPT model to generate a response based on our prompt. The response simulates a student's paragraph, including a topic and purpose.\n",
    "\n",
    "### Interaction Details:\n",
    "- **Model Selection**: The GPT-3.5 model is used for its advanced language generation capabilities and speed.\n",
    "- **Token Limit**: `max_tokens` defines the maximum length of the generated response."
   ]
  },
  {
   "cell_type": "code",
   "execution_count": 3,
   "id": "f4b7dc20-21d9-45b8-ae84-79f7bddcb775",
   "metadata": {
    "execution": {
     "iopub.execute_input": "2024-01-30T13:31:00.217337Z",
     "iopub.status.busy": "2024-01-30T13:31:00.217072Z",
     "iopub.status.idle": "2024-01-30T13:31:12.778629Z",
     "shell.execute_reply": "2024-01-30T13:31:12.777385Z",
     "shell.execute_reply.started": "2024-01-30T13:31:00.217312Z"
    }
   },
   "outputs": [
    {
     "name": "stdout",
     "output_type": "stream",
     "text": [
      "# Topic: Endangered Species\n",
      "\n",
      "# Purpose: To raise awareness about the importance of conserving endangered species and the impact of human activities on their survival.\n",
      "\n",
      "Endangered species are a topic of great concern in today's world. As an animal lover, it is disheartening to learn about the declining population of various species. Endangered species are those that are at risk of extinction, meaning they are in danger of disappearing forever. The loss of species affects not only the ecological balance but also the biodiversity and overall health of our planet. Human activities, such as deforestation, pollution, and illegal hunting, are major contributors to the decline of these species. Additionally, climate change poses a significant threat by disrupting ecosystems and altering habitats. It is vital for us to understand the importance of conserving endangered species and taking action to protect them. Conservation efforts, such as habitat restoration, captive breeding, and implementing stricter laws against illegal wildlife trade, are essential steps to prevent further species from becoming endangered. Educating ourselves and others about the issue can also make a difference. By raising awareness and promoting responsible actions, we can all play a role in preserving these magnificent creatures for future generations.\n"
     ]
    }
   ],
   "source": [
    "model = 'gpt-3.5-turbo' \n",
    "max_tokens = 500\n",
    "\n",
    "# Construct message\n",
    "messages = [{'role': 'system', 'content': 'You are a helpful assistant who excels at generating randomized paragraph topics, purposes, and text content.'},\n",
    "            {'role': 'user', 'content': prompt}]\n",
    "# Prompt GPT model\n",
    "response = openai.ChatCompletion.create(model=model, messages=messages, max_tokens=max_tokens)\n",
    "# Collect response\n",
    "txt = response['choices'][0]['message']['content']\n",
    "print(txt)"
   ]
  },
  {
   "cell_type": "markdown",
   "id": "2402327d-9bb1-44a9-bf05-55873cf6e498",
   "metadata": {},
   "source": [
    "## Creating a Randomized Dataset\n",
    "\n",
    "Our goal is to create a diverse and realistic dataset of student writings across different grades. To achieve this, we generate text for a large number of mock students.\n",
    "\n",
    "### Dataset Creation Process:\n",
    "- **HDF5 File**: We use an HDF5 file to store the dataset efficiently.\n",
    "- **Loop for Data Generation**: For each mock student, a grade is randomly chosen, a prompt is generated, and a response from the OpenAI API is obtained and stored."
   ]
  },
  {
   "cell_type": "code",
   "execution_count": null,
   "id": "8edd7b9f-ed6b-49f1-b850-cfd8e78af10b",
   "metadata": {
    "execution": {
     "iopub.execute_input": "2024-01-30T13:33:10.420278Z",
     "iopub.status.busy": "2024-01-30T13:33:10.419635Z"
    }
   },
   "outputs": [
    {
     "name": "stdout",
     "output_type": "stream",
     "text": [
      "490 complete. Approximately 155.8 minutes remaining....\r"
     ]
    }
   ],
   "source": [
    "num_students = 1000\n",
    "model = 'gpt-3.5-turbo'\n",
    "max_tokens = 500\n",
    "n_messages_store = 2\n",
    "\n",
    "# Create a new HDF5 file\n",
    "mode = 'a'\n",
    "with h5py.File('data/grade_level_writing.h5', mode) as h5f:\n",
    "    # Create a dataset for grades with maximum size\n",
    "    if mode=='w':\n",
    "        max_size = (None,)  # None indicates an unlimited dimension\n",
    "        grade_dset = h5f.create_dataset('grade', shape=(0,), maxshape=max_size, dtype='i')\n",
    "    \n",
    "        # Create a special datatype for variable-length strings\n",
    "        dt = h5py.special_dtype(vlen=str)\n",
    "    \n",
    "        # Create a dataset for texts with the special datatype and maximum size\n",
    "        text_dset = h5f.create_dataset('text', shape=(0,), maxshape=max_size, dtype=dt)\n",
    "    elif mode=='a':\n",
    "        # Append to existing datafile\n",
    "        grade_dset = h5f['grade']\n",
    "        text_dset = h5f['text']\n",
    "\n",
    "    # Begin message thread\n",
    "    if mode=='w':\n",
    "        messages = [{'role': 'system', 'content': 'You are a helpful assistant who excels at generating randomized paragraph topics, purposes, and text content.'}]\n",
    "    # Append data to datasets in a loop\n",
    "    for i in range(num_students):\n",
    "        time_start = time.time()\n",
    "        grade = np.random.choice(np.arange(3,13))\n",
    "\n",
    "        # Define the prompt\n",
    "        prompt = develop_prompt(grade=grade, personas=personas)\n",
    "        messages.append({'role': 'user', 'content': prompt})\n",
    "\n",
    "        # Prompt GPT with some randomness\n",
    "        try:\n",
    "            response = openai.ChatCompletion.create(model=model, messages=messages, max_tokens=max_tokens, \n",
    "                                                    seed=np.random.randint(0,1e5), temperature=np.random.uniform(0.7,1.3))\n",
    "        except APIError as e:\n",
    "            print('Server Error')\n",
    "            time.sleep(10)\n",
    "            continue\n",
    "        # Obtain response\n",
    "        text = response['choices'][0]['message']['content']\n",
    "\n",
    "        # Save response as part of the conversation (or else it repeats its responses)\n",
    "        messages.append({'role': 'assistant', 'content': text})\n",
    "        # Only keep the last n_messages back-and-forths\n",
    "        if len(messages)>(2*n_messages_store):\n",
    "            messages = [messages[0]] + messages[-int(2*n_messages_store):]\n",
    "        # Make sure last message was the assistant\n",
    "        while messages[-1]['role']=='user':\n",
    "            messages = messages[:-1]\n",
    "\n",
    "        # Resize datasets to accommodate new data\n",
    "        grade_dset.resize((len(grade_dset) + 1,))\n",
    "        text_dset.resize((len(text_dset) + 1,))\n",
    "\n",
    "        # Assign data\n",
    "        grade_dset[-1] = grade\n",
    "        text_dset[-1] = text\n",
    "\n",
    "        # Estimate remaining time.\n",
    "        time_end = time.time()\n",
    "        n_left = num_students - i\n",
    "        t_left = (n_left * (time_end - time_start)) / 60\n",
    "        print(f'{i+1} complete. Approximately {t_left:0.1f} minutes remaining...', end='\\r')\n",
    "print('\\nAll done!')"
   ]
  },
  {
   "cell_type": "markdown",
   "id": "9718ec58-5e56-4bb4-bbed-e1963d90426a",
   "metadata": {},
   "source": [
    "## Inspecting the Generated Data\n",
    "\n",
    "Finally, we can inspect the generated dataset by reading from the HDF5 file. This step is crucial for verifying the quality and diversity of our mock dataset."
   ]
  },
  {
   "cell_type": "code",
   "execution_count": 49,
   "id": "a1411f6f-c931-4a9f-9e12-f55c18e713ff",
   "metadata": {
    "execution": {
     "iopub.execute_input": "2024-01-30T13:25:11.210182Z",
     "iopub.status.busy": "2024-01-30T13:25:11.209730Z",
     "iopub.status.idle": "2024-01-30T13:25:11.220021Z",
     "shell.execute_reply": "2024-01-30T13:25:11.219240Z",
     "shell.execute_reply.started": "2024-01-30T13:25:11.210153Z"
    }
   },
   "outputs": [
    {
     "name": "stdout",
     "output_type": "stream",
     "text": [
      "\n",
      "# Grade:  8 \n",
      "\n",
      "# Topic: Ancient Egypt\n",
      "\n",
      "# Purpose: To inform the reader about the civilization of Ancient Egypt.\n",
      "\n",
      "Ancient Egypt was a fascinating civilization that flourished along the banks of the Nile River over 4,000 years ago. The ancient Egyptians were known for their impressive architectural achievements, such as the Great Pyramids of Giza and the Temple of Luxor. They believed in the afterlife and spent a great deal of time and effort preparing for it. This is why they built elaborate tombs and filled them with valuable possessions. The Egyptians also had a complex system of hieroglyphic writing, which was used to record important events and religious beliefs. They worshiped many gods and goddesses, including Ra, the sun god, and Isis, the goddess of magic and fertility. The Nile River was crucial to their way of life, as it provided them with fertile land for farming and transportation. The ancient Egyptians also had a well-organized government led by a pharaoh, who was considered to be a divine ruler. Overall, Ancient Egypt was a civilization of great achievements and rich cultural traditions that continues to captivate us today.\n",
      "\n",
      "# Grade:  8 \n",
      "\n",
      "# Topic: Brain Teasers\n",
      "\n",
      "# Purpose: To entertain and challenge the reader with brain teasers.\n",
      "\n",
      "Are you ready to put your thinking skills to the test? Brain teasers are puzzles or riddles that are designed to challenge your mind and make you think creatively. They come in various forms, from logical puzzles to wordplay and visual challenges. Brain teasers are not only fun and entertaining, but they also help improve your problem-solving abilities and cognitive skills. They require you to think outside the box, analyze information, and find hidden patterns or connections. For example, one popular brain teaser is the \"riddle of the Sphinx,\" which asks: \"What has a head and a tail, but no body?\" The answer, of course, is a coin. Other brain teasers may ask you to fill in missing numbers or solve a sequence of symbols. You can find brain teasers in books, online websites, and even in games. So if you're up for a challenge and want to exercise your brain, try solving some brain teasers and see how much fun and satisfaction you can get from cracking those tricky puzzles!\n",
      "\n",
      "# Grade:  12 \n",
      "\n",
      "# Topic: Importance of Voting\n",
      "\n",
      "# Purpose: To persuade the reader about the importance of voting in a democratic society.\n",
      "\n",
      "Voting is both a privilege and a vital responsibility in a democratic society. It grants citizens the power to shape the course of their nation and have a say in the decisions that affect their lives. Whether it is electing government officials, passing or rejecting laws, or expressing your stance on important issues, voting allows you to actively participate in the democratic processes that govern your country. Your vote is your voice, and it sends a clear message about what you believe in and the kind of future you want to see. By engaging in the voting process, you exercise your rights and contribute to the formation of a government that accurately represents the will of the people. Furthermore, voting empowers you to hold elected officials accountable for their actions and decisions. It gives you the power to endorse candidates who align with your values, and it provides an opportunity to effect change and have a say in shaping policies that directly impact your community and society as a whole. Participating in elections and making informed choices based on a comprehensive understanding of the candidates and issues ensures that you have a direct hand in building a democracy that is fair, just, and representative. So let your voice be heard, exercise your right to vote, and be an active and responsible citizen in shaping the nation you want to live in.\n"
     ]
    }
   ],
   "source": [
    "with h5py.File('data/grade_level_writing.h5', 'r') as h5f:\n",
    "    for i in range(3):\n",
    "        print('\\n# Grade: ', int(h5f['grade'][i]),'\\n',)\n",
    "        print(h5f['text'][i].decode('utf-8'))"
   ]
  },
  {
   "cell_type": "code",
   "execution_count": null,
   "id": "c4f13559-60ec-4e5b-89ab-2783d2ba4b97",
   "metadata": {},
   "outputs": [],
   "source": []
  }
 ],
 "metadata": {
  "kernelspec": {
   "display_name": "Python 3 (ipykernel)",
   "language": "python",
   "name": "python3"
  },
  "language_info": {
   "codemirror_mode": {
    "name": "ipython",
    "version": 3
   },
   "file_extension": ".py",
   "mimetype": "text/x-python",
   "name": "python",
   "nbconvert_exporter": "python",
   "pygments_lexer": "ipython3",
   "version": "3.10.13"
  }
 },
 "nbformat": 4,
 "nbformat_minor": 5
}
