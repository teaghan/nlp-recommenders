{
 "cells": [
  {
   "cell_type": "markdown",
   "id": "9b57d61d-e206-4e8e-8049-5dc89376bb8b",
   "metadata": {},
   "source": [
    "# Developing an NLP Model using PyTorch\n",
    "\n",
    "In this tutorial, we'll explore NLP and deep learning, leveraging the powerful capabilities of PyTorch and transformer models to solve a practical and impactful problem in the realm of education.\n",
    "\n",
    "## Basic Introduction\n",
    "\n",
    "NLP is a branch of artificial intelligence that focuses on the interaction between computers and humans through natural language. The ultimate objective of NLP is to read, decipher, understand, and make sense of human languages in a valuable way. With the advent of deep learning, NLP has seen remarkable advancements, particularly with the introduction of models like BERT and GPT, which are based on the transformer architecture.\n",
    "\n",
    "PyTorch, a leading deep learning library, provides an intuitive interface for building and training complex models, including transformers. It is known for its flexibility, ease of use, and dynamic computation graph, making it a preferred choice for researchers and developers in the field of AI.\n",
    "\n",
    "## Overview of the Problem\n",
    "\n",
    "In this tutorial, we are going to tackle the challenge of developing an NLP model that can predict the grade level of a given piece of text. This involves analyzing the complexity, vocabulary, syntax, and overall structure of the writing and mapping it to a corresponding educational grade level. Such a task is crucial in educational settings, as it helps in understanding and assessing the writing skills of students across different age groups and educational stages.\n",
    "\n",
    "### Applications of Grade Level Classification in Educational Tools\n",
    "- **Personalized Learning**: Tailoring learning materials and exercises based on a student's writing proficiency.\n",
    "- **Content Curation**: Assisting educators in selecting or creating text materials that are appropriate for the reading and comprehension levels of their students.\n",
    "- **Automated Assessment**: Providing a tool for educators to quickly assess the writing level of student assignments, essays, and other written works.\n",
    "- **Language Development Tracking**: Monitoring the progress of students’ language and writing skills over time.\n",
    "- **Assistive Technology**: Offering support for students with learning disabilities by matching them with texts that suit their reading and comprehension levels.\n",
    "\n",
    "## Approach to Solving the Problem\n",
    "\n",
    "Our approach will be multi-faceted and will involve the following key steps:\n",
    "\n",
    "1. **Data Acquisition and Preparation**: In another notebook, we developed a mock dataset of text samples annotated with grade levels using GPT. This dataset will then be preprocessed to be fed into our model.\n",
    "\n",
    "2. **Constructing a Transformer Model**: We will explore the technique of using a pre-trained transformer model available in PyTorch.\n",
    "\n",
    "3. **Fine-Tuning the Model**: We'll adapt and fine-tune the chosen transformer model for our specific classification task, modifying it to predict the grade level based on the input text.\n",
    "\n",
    "4. **Training and Evaluation**: The model will be trained on our dataset, and we will evaluate its performance using various metrics to ensure its accuracy and reliability.\n",
    "\n",
    "5. **Application and Deployment**: Finally, we'll discuss how to integrate this model into real-world educational applications and tools.\n",
    "\n",
    "By the end of this tutorial, you will have gained hands-on experience in building and applying a sophisticated NLP model for a meaningful and practical purpose in the field of education.\n",
    "\n",
    "### Import Necessary Libraries"
   ]
  },
  {
   "cell_type": "code",
   "execution_count": 1,
   "id": "003b8263-18a8-4326-90a8-7521fcc4a4e3",
   "metadata": {
    "execution": {
     "iopub.execute_input": "2024-01-31T00:14:02.294505Z",
     "iopub.status.busy": "2024-01-31T00:14:02.294195Z",
     "iopub.status.idle": "2024-01-31T00:18:21.536278Z",
     "shell.execute_reply": "2024-01-31T00:18:21.535332Z",
     "shell.execute_reply.started": "2024-01-31T00:14:02.294479Z"
    }
   },
   "outputs": [
    {
     "name": "stderr",
     "output_type": "stream",
     "text": [
      "2024-01-31 00:15:43.941904: E external/local_xla/xla/stream_executor/cuda/cuda_dnn.cc:9261] Unable to register cuDNN factory: Attempting to register factory for plugin cuDNN when one has already been registered\n",
      "2024-01-31 00:15:43.942032: E external/local_xla/xla/stream_executor/cuda/cuda_fft.cc:607] Unable to register cuFFT factory: Attempting to register factory for plugin cuFFT when one has already been registered\n",
      "2024-01-31 00:15:43.948005: E external/local_xla/xla/stream_executor/cuda/cuda_blas.cc:1515] Unable to register cuBLAS factory: Attempting to register factory for plugin cuBLAS when one has already been registered\n",
      "2024-01-31 00:16:51.698165: W tensorflow/compiler/tf2tensorrt/utils/py_utils.cc:38] TF-TRT Warning: Could not find TensorRT\n"
     ]
    },
    {
     "name": "stdout",
     "output_type": "stream",
     "text": [
      "Using Torch version: 2.0.1+cu117\n",
      "Using a cpu device with 0 GPU(s)\n"
     ]
    }
   ],
   "source": [
    "import numpy as np\n",
    "import h5py\n",
    "import torch\n",
    "from torch.optim import AdamW\n",
    "from torch.utils.data import Dataset, DataLoader, random_split\n",
    "from transformers import BertTokenizer, AutoModelForSequenceClassification, get_scheduler\n",
    "import re\n",
    "\n",
    "device = torch.device('cuda') if torch.cuda.is_available() else torch.device('cpu')\n",
    "n_gpu = torch.cuda.device_count()\n",
    "\n",
    "print(f'Using Torch version: {torch.__version__}')\n",
    "print(f'Using a {device} device with {n_gpu} GPU(s)')"
   ]
  },
  {
   "cell_type": "markdown",
   "id": "6e5c8b0c-1642-4f61-b50a-c2a40d5cce00",
   "metadata": {},
   "source": [
    "### Creating a Custom Dataset Class for BERT-Based Grade Level Classification\n",
    "\n",
    "In this section, we'll construct a custom dataset class to prepare our data for the grade level classification task using BERT. This class, `GradesTextDataset`, will be responsible for loading, preprocessing, and tokenizing the text data. We'll employ PyTorch's `Dataset` class for this purpose. The process involves several key steps:\n",
    "\n",
    "#### Data Loading and Preprocessing\n",
    "- **Conversion**: Text data, stored as byte strings, is decoded to standard strings.\n",
    "- **Cleaning**: We employ regular expressions to remove the topic and purpose sections from the text.\n",
    "\n",
    "#### Tokenization and Encoding\n",
    "- **Tokenization**: The BERT tokenizer splits the text into tokens, which are words or subwords that the model understands.\n",
    "- **Encoding**: Each token is mapped to an integer ID from BERT's vocabulary.\n",
    "- **Special Tokens**: We add `[CLS]` at the start and `[SEP]` at the end of each sentence for BERT's requirements.\n",
    "\n",
    "#### Attention Mask and Sequence Padding\n",
    "- **Attention Mask**: This mask differentiates real data from padding, guiding the model on which tokens to focus.\n",
    "- **Padding**: Shorter sequences are padded with `[PAD]` tokens to reach the maximum sequence length (`MAX_LEN`).\n",
    "- **Truncation**: Longer sequences are truncated to `MAX_LEN`.\n",
    "\n",
    "\n",
    "First let's determine how large to make `MAX_LEN`:"
   ]
  },
  {
   "cell_type": "code",
   "execution_count": 2,
   "id": "614f37e1-5f67-4398-a5d4-5ecca296f208",
   "metadata": {
    "execution": {
     "iopub.execute_input": "2024-01-31T00:18:21.545527Z",
     "iopub.status.busy": "2024-01-31T00:18:21.545251Z",
     "iopub.status.idle": "2024-01-31T00:18:30.220324Z",
     "shell.execute_reply": "2024-01-31T00:18:30.219182Z",
     "shell.execute_reply.started": "2024-01-31T00:18:21.545500Z"
    }
   },
   "outputs": [
    {
     "name": "stderr",
     "output_type": "stream",
     "text": [
      "Token indices sequence length is longer than the specified maximum sequence length for this model (514 > 512). Running this sequence through the model will result in indexing errors\n"
     ]
    },
    {
     "name": "stdout",
     "output_type": "stream",
     "text": [
      "Suggested MAX_LEN: 672\n"
     ]
    }
   ],
   "source": [
    "file_name = 'data/grade_level_writing.h5'\n",
    "model_name = 'bert-base-cased'\n",
    "grades = np.arange(3,13)\n",
    "\n",
    "# Initialize the BERT tokenizer\n",
    "tokenizer = BertTokenizer.from_pretrained(model_name)\n",
    "\n",
    "# Load the dataset\n",
    "with h5py.File(file_name, 'r') as file:\n",
    "    texts = file['text']\n",
    "\n",
    "    # Tokenize the texts and record their lengths\n",
    "    lengths = []\n",
    "    for i in range(len(texts)):\n",
    "        text = texts[i]\n",
    "        # Decode text from bytes to string\n",
    "        text = text.decode('utf-8')\n",
    "        # Remove topic and purpose\n",
    "        text = re.sub(r'#.*?\\n\\n', '', text)\n",
    "        \n",
    "        # Tokenize and encode the text\n",
    "        tokens = tokenizer.encode(text, add_special_tokens=True)\n",
    "        # Record the length\n",
    "        lengths.append(len(tokens))\n",
    "\n",
    "# Analyze the token lengths\n",
    "max_len = int(np.max(lengths))\n",
    "\n",
    "print(f\"Suggested MAX_LEN: {max_len}\")"
   ]
  },
  {
   "cell_type": "markdown",
   "id": "230ecae9-09ee-44ae-a207-da012f9b8ad6",
   "metadata": {},
   "source": [
    "### Build the dataset\n",
    "\n",
    "Split the data randomly into training and validation sets."
   ]
  },
  {
   "cell_type": "code",
   "execution_count": 3,
   "id": "9a728cc7-c1a8-43c5-b284-f743cf45b54f",
   "metadata": {
    "execution": {
     "iopub.execute_input": "2024-01-31T00:18:30.502797Z",
     "iopub.status.busy": "2024-01-31T00:18:30.502136Z",
     "iopub.status.idle": "2024-01-31T00:18:30.518582Z",
     "shell.execute_reply": "2024-01-31T00:18:30.517715Z",
     "shell.execute_reply.started": "2024-01-31T00:18:30.502769Z"
    }
   },
   "outputs": [
    {
     "name": "stdout",
     "output_type": "stream",
     "text": [
      "The training dataset consists of 1558 samples and the validation set has 174 samples.\n"
     ]
    }
   ],
   "source": [
    "class GradesTextDataset(Dataset):\n",
    "    def __init__(self, file_name, tokenizer, max_len, min_grade=3):\n",
    "        self.file_name = file_name\n",
    "        self.tokenizer = tokenizer\n",
    "        self.max_len = max_len\n",
    "        self.min_grade = min_grade\n",
    "\n",
    "    def __len__(self):\n",
    "        with h5py.File(self.file_name, 'r') as file:\n",
    "            return len(file['grade'])\n",
    "\n",
    "    def __getitem__(self, idx):\n",
    "\n",
    "        with h5py.File(self.file_name, 'r') as file:\n",
    "            # Load sample\n",
    "            text = file['text'][idx].decode('utf-8')\n",
    "            grade = file['grade'][idx]\n",
    "\n",
    "        # Remove topic and purpose\n",
    "        text = re.sub(r'#.*?\\n\\n', '', text)\n",
    "\n",
    "        # Convert grade to class\n",
    "        cl = grade - self.min_grade\n",
    "\n",
    "        # Tokenization and encoding the text\n",
    "        encoding = self.tokenizer.encode_plus(\n",
    "            text,\n",
    "            add_special_tokens=True,\n",
    "            max_length=self.max_len,\n",
    "            return_token_type_ids=False,\n",
    "            padding='max_length',\n",
    "            return_attention_mask=True,\n",
    "            return_tensors='pt',\n",
    "            truncation=True\n",
    "        )\n",
    "\n",
    "        return {\n",
    "            'text': text,\n",
    "            'input_ids': encoding['input_ids'].flatten(),\n",
    "            'attention_mask': encoding['attention_mask'].flatten(),\n",
    "            'grade': torch.tensor(grade, dtype=torch.long),\n",
    "            'class': torch.tensor(cl, dtype=torch.long),\n",
    "        }\n",
    "\n",
    "# Define max sequence length for BERT\n",
    "MAX_LEN = 512\n",
    "\n",
    "# Create dataset\n",
    "full_dataset = GradesTextDataset(file_name=file_name,\n",
    "                                 tokenizer=tokenizer,\n",
    "                                 max_len=MAX_LEN,\n",
    "                                min_grade=grades[0])\n",
    "\n",
    "# Define the split sizes for training and validation\n",
    "train_size = int(0.9 * len(full_dataset))\n",
    "val_size = len(full_dataset) - train_size\n",
    "\n",
    "# Randomly split the dataset into training and validation datasets\n",
    "train_dataset, val_dataset = random_split(full_dataset, [train_size, val_size])\n",
    "print(f'The training dataset consists of {len(train_dataset)} samples and the validation set has {len(val_dataset)} samples.')"
   ]
  },
  {
   "cell_type": "markdown",
   "id": "9c08a66d-bcce-4806-8188-e0ecf1409a12",
   "metadata": {},
   "source": [
    "### Instantiate the DataLoader\n",
    "\n",
    "Finally, the `DataLoader` is created to facilitate batch processing and shuffling of the data, making it ready for training with a PyTorch model.\n",
    "\n",
    "This DataLoader will provide the necessary input for the BERT model, where each batch contains tokenized text, attention masks, and the corresponding grade levels as labels."
   ]
  },
  {
   "cell_type": "code",
   "execution_count": 4,
   "id": "4ec1e92f-f309-4a87-8842-224b8f3f4946",
   "metadata": {
    "execution": {
     "iopub.execute_input": "2024-01-31T00:18:30.519938Z",
     "iopub.status.busy": "2024-01-31T00:18:30.519575Z",
     "iopub.status.idle": "2024-01-31T00:18:30.683720Z",
     "shell.execute_reply": "2024-01-31T00:18:30.682715Z",
     "shell.execute_reply.started": "2024-01-31T00:18:30.519913Z"
    }
   },
   "outputs": [],
   "source": [
    "batch_size = 32\n",
    "# Create the DataLoader\n",
    "train_dataloader = DataLoader(train_dataset, batch_size=batch_size, shuffle=True)\n",
    "val_dataloader = DataLoader(val_dataset, batch_size=batch_size, shuffle=False)"
   ]
  },
  {
   "cell_type": "markdown",
   "id": "488c37b8-b659-4404-ad55-498b240fbdba",
   "metadata": {},
   "source": [
    "## Fine-Tuning BERT for NLP Tasks\n",
    "\n",
    "In this section of the tutorial, we will delve into BERT (Bidirectional Encoder Representations from Transformers), one of the most influential models in the world of Natural Language Processing (NLP). Developed by Google, BERT has revolutionized how machines understand human language. Its effectiveness in a wide range of NLP tasks makes it an ideal choice for our project on grade level classification of text.\n",
    "\n",
    "### What is BERT?\n",
    "\n",
    "BERT is a transformer-based machine learning technique for NLP pre-training. Unlike previous models that looked at text sequences either from left to right or combined left-to-right and right-to-left training, BERT reads the entire sequence of words at once. This bidirectional approach allows the model to understand the context of a word based on all of its surroundings (left and right of the word).\n",
    "\n",
    "### Key Features of BERT\n",
    "\n",
    "- **Deeply Bidirectional**: BERT's bidirectional nature allows it to understand the full context of a sentence, which is crucial for understanding the meaning of each word accurately.\n",
    "- **Pre-trained on Large Text Corpora**: BERT is pre-trained on massive text corpora, like Wikipedia and the BooksCorpus, enabling it to have a broad understanding of language.\n",
    "- **Fine-Tuning for Specific Tasks**: Despite its pre-trained knowledge, BERT can be fine-tuned with additional output layers to create state-of-the-art models for a wide range of tasks, such as sentiment analysis, question answering, and in our case, grade level classification.\n",
    "\n",
    "### Benefits of Using BERT\n",
    "\n",
    "1. **High Performance**: BERT has been shown to achieve state-of-the-art results on various NLP benchmarking tests.\n",
    "2. **Contextual Understanding**: Its deep bidirectional nature allows for a better understanding of the context and nuances of language.\n",
    "3. **Versatility**: Can be fine-tuned for a wide array of NLP tasks without substantial architecture modifications.\n",
    "\n",
    "### Possible Drawbacks of BERT\n",
    "\n",
    "1. **Computational Resources**: BERT's complexity requires significant computational power, especially for large datasets or when fine-tuning the larger BERT models.\n",
    "2. **Fine-tuning Challenges**: Properly fine-tuning BERT for specific tasks can be challenging. It requires a balance between adapting it to the task at hand and not straying too far from its pre-trained knowledge base.\n",
    "3. **Possible Overfitting on Smaller Datasets**: When dealing with smaller datasets, there's a risk of overfitting, as BERT has been trained on vast amounts of data.\n",
    "\n",
    "BERT stands out as a powerful tool in the NLP toolkit. Its ability to understand the context and meaning of words in text makes it highly effective for tasks requiring a deep understanding of language. In the context of our educational tool for grade level classification, BERT's nuanced understanding of language structure and complexity can provide valuable insights into the writing level of students. However, we must be mindful of its resource requirements and the nuances of fine-tuning.\n",
    "\n",
    "## Load Pretrained Model"
   ]
  },
  {
   "cell_type": "code",
   "execution_count": 5,
   "id": "1456266b-a07f-4b6c-b872-a82f2539125c",
   "metadata": {
    "execution": {
     "iopub.execute_input": "2024-01-31T00:18:30.685121Z",
     "iopub.status.busy": "2024-01-31T00:18:30.684816Z",
     "iopub.status.idle": "2024-01-31T00:18:56.951401Z",
     "shell.execute_reply": "2024-01-31T00:18:56.950478Z",
     "shell.execute_reply.started": "2024-01-31T00:18:30.685093Z"
    }
   },
   "outputs": [
    {
     "name": "stderr",
     "output_type": "stream",
     "text": [
      "Some weights of BertForSequenceClassification were not initialized from the model checkpoint at bert-base-cased and are newly initialized: ['classifier.bias', 'classifier.weight']\n",
      "You should probably TRAIN this model on a down-stream task to be able to use it for predictions and inference.\n"
     ]
    },
    {
     "data": {
      "text/plain": [
       "BertForSequenceClassification(\n",
       "  (bert): BertModel(\n",
       "    (embeddings): BertEmbeddings(\n",
       "      (word_embeddings): Embedding(28996, 768, padding_idx=0)\n",
       "      (position_embeddings): Embedding(512, 768)\n",
       "      (token_type_embeddings): Embedding(2, 768)\n",
       "      (LayerNorm): LayerNorm((768,), eps=1e-12, elementwise_affine=True)\n",
       "      (dropout): Dropout(p=0.1, inplace=False)\n",
       "    )\n",
       "    (encoder): BertEncoder(\n",
       "      (layer): ModuleList(\n",
       "        (0-11): 12 x BertLayer(\n",
       "          (attention): BertAttention(\n",
       "            (self): BertSelfAttention(\n",
       "              (query): Linear(in_features=768, out_features=768, bias=True)\n",
       "              (key): Linear(in_features=768, out_features=768, bias=True)\n",
       "              (value): Linear(in_features=768, out_features=768, bias=True)\n",
       "              (dropout): Dropout(p=0.1, inplace=False)\n",
       "            )\n",
       "            (output): BertSelfOutput(\n",
       "              (dense): Linear(in_features=768, out_features=768, bias=True)\n",
       "              (LayerNorm): LayerNorm((768,), eps=1e-12, elementwise_affine=True)\n",
       "              (dropout): Dropout(p=0.1, inplace=False)\n",
       "            )\n",
       "          )\n",
       "          (intermediate): BertIntermediate(\n",
       "            (dense): Linear(in_features=768, out_features=3072, bias=True)\n",
       "            (intermediate_act_fn): GELUActivation()\n",
       "          )\n",
       "          (output): BertOutput(\n",
       "            (dense): Linear(in_features=3072, out_features=768, bias=True)\n",
       "            (LayerNorm): LayerNorm((768,), eps=1e-12, elementwise_affine=True)\n",
       "            (dropout): Dropout(p=0.1, inplace=False)\n",
       "          )\n",
       "        )\n",
       "      )\n",
       "    )\n",
       "    (pooler): BertPooler(\n",
       "      (dense): Linear(in_features=768, out_features=768, bias=True)\n",
       "      (activation): Tanh()\n",
       "    )\n",
       "  )\n",
       "  (dropout): Dropout(p=0.1, inplace=False)\n",
       "  (classifier): Linear(in_features=768, out_features=10, bias=True)\n",
       ")"
      ]
     },
     "execution_count": 5,
     "metadata": {},
     "output_type": "execute_result"
    }
   ],
   "source": [
    "# Load pretrained model\n",
    "model = AutoModelForSequenceClassification.from_pretrained(model_name, num_labels=len(grades))\n",
    "model.to(device)"
   ]
  },
  {
   "cell_type": "markdown",
   "id": "c1ad5366-a9ae-4ce9-a49d-b1acd1f4d276",
   "metadata": {},
   "source": [
    "### Optimizer and Learning Rate Scheduler Setup\n",
    "\n",
    "In this section, we configure the optimizer and the learning rate scheduler for training our BERT model. These components play a crucial role in the training process by controlling how the model's weights are updated and how the learning rate changes over time.\n",
    "\n",
    "#### Optimizer: AdamW\n",
    "- **Role**: The optimizer is responsible for updating the model weights to minimize the loss function. Here, we use `AdamW`, a variant of the Adam optimizer that is specifically designed for training deep learning models.\n",
    "- **Learning Rate**: We set the learning rate to `5e-5`. This value is a commonly used starting point for fine-tuning BERT models. However, it might require adjustment based on the specific characteristics of your dataset.\n",
    "\n",
    "#### Learning Rate Scheduler: Linear Scheduler with No Warmup\n",
    "- **Role**: The learning rate scheduler adjusts the learning rate during training. It can help in faster convergence and better overall performance of the model.\n",
    "- **Type**: We use a linear scheduler, which gradually decreases the learning rate from the initial value set in the optimizer to zero.\n",
    "- **Warmup Steps**: We set `num_warmup_steps` to 0, meaning the learning rate starts decreasing linearly from the first training step. Adjusting the number of warmup steps can be beneficial in some cases, as it allows the model to initially learn rapidly and then fine-tune more slowly."
   ]
  },
  {
   "cell_type": "code",
   "execution_count": 6,
   "id": "56f9ac6f-4db9-40b5-ac82-3b6f57112743",
   "metadata": {
    "execution": {
     "iopub.execute_input": "2024-01-31T00:18:56.952942Z",
     "iopub.status.busy": "2024-01-31T00:18:56.952629Z",
     "iopub.status.idle": "2024-01-31T00:18:56.958830Z",
     "shell.execute_reply": "2024-01-31T00:18:56.958002Z",
     "shell.execute_reply.started": "2024-01-31T00:18:56.952914Z"
    }
   },
   "outputs": [],
   "source": [
    "num_epochs = 10\n",
    "lr = 5e-5\n",
    "\n",
    "# Define optimizer\n",
    "optimizer = AdamW(model.parameters(), lr=lr)\n",
    "\n",
    "# Learning rate scheduler\n",
    "num_training_steps = num_epochs * len(train_dataloader)\n",
    "lr_scheduler = get_scheduler(\n",
    "    name=\"linear\", optimizer=optimizer, num_warmup_steps=0, num_training_steps=num_training_steps\n",
    ")"
   ]
  },
  {
   "cell_type": "markdown",
   "id": "0e110429-24d4-4ffe-9921-eaf7de0aad89",
   "metadata": {},
   "source": [
    "## Training\n",
    "\n",
    "Perform the fine-tuning of the model weights and track the progress of the performance on the trainig and validation data."
   ]
  },
  {
   "cell_type": "code",
   "execution_count": 7,
   "id": "8d6846ba-a67e-4634-86f3-bc488d4971c7",
   "metadata": {
    "execution": {
     "iopub.execute_input": "2024-01-31T00:18:56.960213Z",
     "iopub.status.busy": "2024-01-31T00:18:56.959908Z",
     "iopub.status.idle": "2024-01-31T02:23:24.155153Z",
     "shell.execute_reply": "2024-01-31T02:23:24.153336Z",
     "shell.execute_reply.started": "2024-01-31T00:18:56.960187Z"
    }
   },
   "outputs": [
    {
     "name": "stdout",
     "output_type": "stream",
     "text": [
      "Epoch 1/10\n",
      "Training loss: 2.03, accuracy: 20.5%\n",
      "Validation accuracy: 29.2%\n",
      "Epoch 2/10\n",
      "Training loss: 1.60, accuracy: 31.2%\n",
      "Validation accuracy: 32.8%\n",
      "Epoch 3/10\n",
      "Training loss: 1.36, accuracy: 41.5%\n",
      "Validation accuracy: 32.3%\n",
      "Epoch 4/10\n",
      "Training loss: 1.20, accuracy: 48.6%\n",
      "Validation accuracy: 34.4%\n",
      "Epoch 5/10\n",
      "Training loss: 0.95, accuracy: 62.1%\n",
      "Validation accuracy: 33.3%\n",
      "Epoch 6/10\n",
      "Training loss: 0.76, accuracy: 70.4%\n",
      "Validation accuracy: 37.5%\n",
      "Epoch 7/10\n",
      "Training loss: 0.63, accuracy: 77.9%\n",
      "Validation accuracy: 34.9%\n",
      "Epoch 8/10\n",
      "Training loss: 0.47, accuracy: 86.0%\n",
      "Validation accuracy: 38.5%\n",
      "Epoch 9/10\n",
      "Training loss: 0.36, accuracy: 93.1%\n",
      "Validation accuracy: 35.9%\n",
      "Epoch 10/10\n",
      "Training loss: 0.29, accuracy: 96.6%\n",
      "Validation accuracy: 36.5%\n"
     ]
    }
   ],
   "source": [
    "# Set the model to training mode\n",
    "model.train()\n",
    "\n",
    "# Training loop\n",
    "train_loss = []\n",
    "train_acc = []\n",
    "val_acc = []\n",
    "for epoch in range(num_epochs):\n",
    "    print(f\"Epoch {epoch + 1}/{num_epochs}\")\n",
    "\n",
    "    # Initialize loss and accuracy\n",
    "    total_loss, total_accuracy = 0, 0\n",
    "\n",
    "    # Iterate over batches\n",
    "    for batch in train_dataloader:\n",
    "        # Move batch data to the same device as model\n",
    "        input_ids = batch['input_ids'].to(device)\n",
    "        attention_mask = batch['attention_mask'].to(device)\n",
    "        labels = batch['class'].to(device)\n",
    "\n",
    "        # Forward pass\n",
    "        outputs = model(input_ids, attention_mask=attention_mask, labels=labels)\n",
    "        loss = outputs.loss\n",
    "        logits = outputs.logits\n",
    "\n",
    "        # Backward pass and optimizer step\n",
    "        loss.backward()\n",
    "        optimizer.step()\n",
    "        lr_scheduler.step()\n",
    "        optimizer.zero_grad()\n",
    "\n",
    "        # Update tracking variables\n",
    "        total_loss += loss.item()\n",
    "        _, predictions = torch.max(logits, dim=1)\n",
    "        total_accuracy += torch.sum(predictions == labels)\n",
    "\n",
    "    # Calculate average loss and accuracy over the epoch\n",
    "    avg_train_loss = total_loss / len(train_dataloader)\n",
    "    avg_train_accuracy = total_accuracy / (len(train_dataloader) * batch_size)\n",
    "    print(f\"Training loss: {avg_train_loss:0.2f}, accuracy: {avg_train_accuracy*100:0.1f}%\")\n",
    "    train_loss.append(avg_train_loss)\n",
    "    train_acc.append(avg_train_accuracy)\n",
    "\n",
    "    # Validation step\n",
    "    model.eval()\n",
    "    total_val_accuracy = 0\n",
    "    with torch.no_grad():\n",
    "        for batch in val_dataloader:\n",
    "            input_ids = batch['input_ids'].to(device)\n",
    "            attention_mask = batch['attention_mask'].to(device)\n",
    "            labels = batch['class'].to(device)\n",
    "\n",
    "            outputs = model(input_ids, attention_mask=attention_mask, labels=labels)\n",
    "            logits = outputs.logits\n",
    "\n",
    "            _, predictions = torch.max(logits, dim=1)\n",
    "            total_val_accuracy += torch.sum(predictions == labels)\n",
    "\n",
    "    avg_val_accuracy = total_val_accuracy / (len(val_dataloader) * batch_size)\n",
    "    print(f\"Validation accuracy: {avg_val_accuracy*100:0.1f}%\")\n",
    "    val_acc.append(avg_val_accuracy)\n",
    "\n",
    "    # Set the model back to training mode\n",
    "    model.train()"
   ]
  },
  {
   "cell_type": "markdown",
   "id": "0c26e348-3788-49c2-adf6-c2a184fa05d7",
   "metadata": {},
   "source": [
    "### Display Training Progress"
   ]
  },
  {
   "cell_type": "code",
   "execution_count": 8,
   "id": "4ee74dc9-a7db-437f-a463-f5064180220f",
   "metadata": {
    "execution": {
     "iopub.execute_input": "2024-01-31T02:26:11.866858Z",
     "iopub.status.busy": "2024-01-31T02:26:11.865721Z",
     "iopub.status.idle": "2024-01-31T02:26:22.851030Z",
     "shell.execute_reply": "2024-01-31T02:26:22.850075Z",
     "shell.execute_reply.started": "2024-01-31T02:26:11.866826Z"
    }
   },
   "outputs": [
    {
     "data": {
      "image/png": "[encoded data removed]",
      "text/plain": [
       "<Figure size 640x480 with 1 Axes>"
      ]
     },
     "metadata": {},
     "output_type": "display_data"
    }
   ],
   "source": [
    "import matplotlib.pyplot as plt\n",
    "\n",
    "# Plotting the training and validation accuracies\n",
    "plt.plot(range(1, num_epochs+1), train_acc, label='Train')\n",
    "plt.plot(range(1, num_epochs+1), val_acc, label='Validation')\n",
    "plt.xlabel('Epochs')\n",
    "plt.ylabel('Accuracy')\n",
    "plt.title('Training Progress')\n",
    "plt.legend()\n",
    "plt.show()"
   ]
  },
  {
   "cell_type": "markdown",
   "id": "c5c53531-2431-47d4-a7c5-451b420e7b12",
   "metadata": {},
   "source": [
    "With such a small training set, it is expected that we would over-fit the model. However, the training illustrates that this model and training procedure can effectively learn the writing level of a given student."
   ]
  },
  {
   "cell_type": "markdown",
   "id": "51e9bffa-4b55-4df8-8068-c5a97d218414",
   "metadata": {},
   "source": [
    "### Confusion Matrix\n",
    "\n",
    "- A confusion matrix will display the model’s predictions against the true labels, showing where the model is getting confused.\n",
    "- It’s particularly useful for multi-class problems like grade level classification. You can see not just overall accuracy, but also which specific grades are being misclassified."
   ]
  },
  {
   "cell_type": "code",
   "execution_count": 9,
   "id": "7a82f645-48bc-4f63-ab74-2e88affa7aee",
   "metadata": {
    "execution": {
     "iopub.execute_input": "2024-01-31T02:26:53.340534Z",
     "iopub.status.busy": "2024-01-31T02:26:53.340088Z",
     "iopub.status.idle": "2024-01-31T02:26:58.139529Z",
     "shell.execute_reply": "2024-01-31T02:26:58.138088Z",
     "shell.execute_reply.started": "2024-01-31T02:26:53.340503Z"
    }
   },
   "outputs": [],
   "source": [
    "import seaborn as sns\n",
    "from sklearn.metrics import confusion_matrix\n",
    "\n",
    "def make_predictions(dataloader):\n",
    "    \n",
    "    # Ensure the model is in evaluation mode\n",
    "    model.eval()\n",
    "    \n",
    "    predictions = []\n",
    "    true_labels = []\n",
    "    with torch.no_grad():\n",
    "        for batch in dataloader:\n",
    "            # Move batch data to the same device as model\n",
    "            input_ids = batch['input_ids'].to(device)\n",
    "            attention_mask = batch['attention_mask'].to(device)\n",
    "            labels = batch['class'].to(device)  # Assuming 'class' is the key for labels\n",
    "    \n",
    "            # Forward pass, get logits\n",
    "            outputs = model(input_ids, attention_mask=attention_mask)\n",
    "            logits = outputs.logits\n",
    "    \n",
    "            # Convert logits to predictions\n",
    "            batch_predictions = torch.argmax(logits, dim=1)\n",
    "            batch_labels = labels\n",
    "    \n",
    "            # Move predictions and labels to CPU, convert them to lists and extend the main lists\n",
    "            predictions.extend(batch_predictions.cpu().numpy())\n",
    "            true_labels.extend(batch_labels.cpu().numpy())\n",
    "    return true_labels, predictions\n",
    "\n",
    "def conf_mat(dataloader, title):\n",
    "    true_labels, predictions = make_predictions(dataloader)\n",
    "    # Assuming 'true_labels' and 'predictions' are lists of true labels and model predictions\n",
    "    cm = confusion_matrix(true_labels, predictions)\n",
    "    sns.heatmap(cm, annot=True, fmt='d')\n",
    "    plt.title(f'{title} Confusion Matrix')\n",
    "    plt.xlabel('Predicted')\n",
    "    plt.ylabel('True')\n",
    "    plt.show()"
   ]
  },
  {
   "cell_type": "code",
   "execution_count": 10,
   "id": "386c7e5f-1166-4164-a0c3-f3a92fe54562",
   "metadata": {
    "execution": {
     "iopub.execute_input": "2024-01-31T02:26:58.202661Z",
     "iopub.status.busy": "2024-01-31T02:26:58.202370Z",
     "iopub.status.idle": "2024-01-31T02:31:14.978797Z",
     "shell.execute_reply": "2024-01-31T02:31:14.977825Z",
     "shell.execute_reply.started": "2024-01-31T02:26:58.202634Z"
    }
   },
   "outputs": [
    {
     "data": {
      "image/png": "[encoded data removed]",
      "text/plain": [
       "<Figure size 640x480 with 2 Axes>"
      ]
     },
     "metadata": {},
     "output_type": "display_data"
    },
    {
     "data": {
      "image/png": "[encoded data removed]",
      "text/plain": [
       "<Figure size 640x480 with 2 Axes>"
      ]
     },
     "metadata": {},
     "output_type": "display_data"
    }
   ],
   "source": [
    "conf_mat(train_dataloader, title='Training Data')\n",
    "conf_mat(val_dataloader, title='Validation Data')"
   ]
  },
  {
   "cell_type": "markdown",
   "id": "a9a53970-ded2-48b4-ba10-997850f2861c",
   "metadata": {},
   "source": [
    "Even with this simple training set-up and basic dataset, it is producing pretty intruiging results!"
   ]
  },
  {
   "cell_type": "code",
   "execution_count": null,
   "id": "d260c6d7-9ddc-4bc1-adbe-de49489bc41f",
   "metadata": {},
   "outputs": [],
   "source": []
  }
 ],
 "metadata": {
  "kernelspec": {
   "display_name": "Python 3 (ipykernel)",
   "language": "python",
   "name": "python3"
  },
  "language_info": {
   "codemirror_mode": {
    "name": "ipython",
    "version": 3
   },
   "file_extension": ".py",
   "mimetype": "text/x-python",
   "name": "python",
   "nbconvert_exporter": "python",
   "pygments_lexer": "ipython3",
   "version": "3.10.13"
  }
 },
 "nbformat": 4,
 "nbformat_minor": 5
}
